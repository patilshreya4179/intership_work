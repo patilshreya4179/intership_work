{
 "cells": [
  {
   "cell_type": "code",
   "execution_count": 1,
   "id": "c02c5a9b-54e2-48e8-967c-4b86f5e5a026",
   "metadata": {},
   "outputs": [],
   "source": [
    "import pandas as pd"
   ]
  },
  {
   "cell_type": "code",
   "execution_count": 3,
   "id": "dc6f6729-7312-4c32-8c57-2c3ec0a85154",
   "metadata": {},
   "outputs": [],
   "source": [
    "#Sample data\n",
    "data={\n",
    "    'CustomerId':['c001','c002','c003','c004','c005','c006','c007','c008'],\n",
    "    'Education_Level':['High School','Bachelors','Masters','PHD','High School','Bachelors','Masters','PHD'],\n",
    "    'Product_Quality':['Low','High','Medium','Low','High','Medium','Low','High'],\n",
    "    'Satisfaction_Level':['poor','poor','good','Average','Excellent','good','Average','Excellent']\n",
    "}\n",
    "df=pd.DataFrame(data)"
   ]
  },
  {
   "cell_type": "code",
   "execution_count": 4,
   "id": "52f4df46-7bf8-45f3-8999-370cc8b9ecb4",
   "metadata": {},
   "outputs": [
    {
     "data": {
      "text/html": [
       "<div>\n",
       "<style scoped>\n",
       "    .dataframe tbody tr th:only-of-type {\n",
       "        vertical-align: middle;\n",
       "    }\n",
       "\n",
       "    .dataframe tbody tr th {\n",
       "        vertical-align: top;\n",
       "    }\n",
       "\n",
       "    .dataframe thead th {\n",
       "        text-align: right;\n",
       "    }\n",
       "</style>\n",
       "<table border=\"1\" class=\"dataframe\">\n",
       "  <thead>\n",
       "    <tr style=\"text-align: right;\">\n",
       "      <th></th>\n",
       "      <th>CustomerId</th>\n",
       "      <th>Education_Level</th>\n",
       "      <th>Product_Quality</th>\n",
       "      <th>Satisfaction_Level</th>\n",
       "    </tr>\n",
       "  </thead>\n",
       "  <tbody>\n",
       "    <tr>\n",
       "      <th>0</th>\n",
       "      <td>c001</td>\n",
       "      <td>High School</td>\n",
       "      <td>Low</td>\n",
       "      <td>poor</td>\n",
       "    </tr>\n",
       "    <tr>\n",
       "      <th>1</th>\n",
       "      <td>c002</td>\n",
       "      <td>Bachelors</td>\n",
       "      <td>High</td>\n",
       "      <td>poor</td>\n",
       "    </tr>\n",
       "    <tr>\n",
       "      <th>2</th>\n",
       "      <td>c003</td>\n",
       "      <td>Masters</td>\n",
       "      <td>Medium</td>\n",
       "      <td>good</td>\n",
       "    </tr>\n",
       "    <tr>\n",
       "      <th>3</th>\n",
       "      <td>c004</td>\n",
       "      <td>PHD</td>\n",
       "      <td>Low</td>\n",
       "      <td>Average</td>\n",
       "    </tr>\n",
       "    <tr>\n",
       "      <th>4</th>\n",
       "      <td>c005</td>\n",
       "      <td>High School</td>\n",
       "      <td>High</td>\n",
       "      <td>Excellent</td>\n",
       "    </tr>\n",
       "    <tr>\n",
       "      <th>5</th>\n",
       "      <td>c006</td>\n",
       "      <td>Bachelors</td>\n",
       "      <td>Medium</td>\n",
       "      <td>good</td>\n",
       "    </tr>\n",
       "    <tr>\n",
       "      <th>6</th>\n",
       "      <td>c007</td>\n",
       "      <td>Masters</td>\n",
       "      <td>Low</td>\n",
       "      <td>Average</td>\n",
       "    </tr>\n",
       "    <tr>\n",
       "      <th>7</th>\n",
       "      <td>c008</td>\n",
       "      <td>PHD</td>\n",
       "      <td>High</td>\n",
       "      <td>Excellent</td>\n",
       "    </tr>\n",
       "  </tbody>\n",
       "</table>\n",
       "</div>"
      ],
      "text/plain": [
       "  CustomerId Education_Level Product_Quality Satisfaction_Level\n",
       "0       c001     High School             Low               poor\n",
       "1       c002       Bachelors            High               poor\n",
       "2       c003         Masters          Medium               good\n",
       "3       c004             PHD             Low            Average\n",
       "4       c005     High School            High          Excellent\n",
       "5       c006       Bachelors          Medium               good\n",
       "6       c007         Masters             Low            Average\n",
       "7       c008             PHD            High          Excellent"
      ]
     },
     "execution_count": 4,
     "metadata": {},
     "output_type": "execute_result"
    }
   ],
   "source": [
    "df"
   ]
  },
  {
   "cell_type": "code",
   "execution_count": 14,
   "id": "07cc0c9c-164b-40f1-86da-17630c6da02b",
   "metadata": {},
   "outputs": [],
   "source": [
    "#Define the order for each ordinal feature\n",
    "\n",
    "education_order = ['High School','Bachelors','Masters','PHD']\n",
    "product_quality_order =['Low','Medium','High']\n",
    "satisfaction_order =['poor','good','Average','Excellent']"
   ]
  },
  {
   "cell_type": "code",
   "execution_count": 15,
   "id": "1401df36-20be-485e-8514-0cadca2de5bc",
   "metadata": {},
   "outputs": [],
   "source": [
    "from sklearn.preprocessing import OrdinalEncoder"
   ]
  },
  {
   "cell_type": "code",
   "execution_count": 16,
   "id": "fa1888e9-1603-48ec-8308-1331c38ba8c5",
   "metadata": {},
   "outputs": [],
   "source": [
    "encoder=OrdinalEncoder(categories=[education_order,product_quality_order,satisfaction_order])"
   ]
  },
  {
   "cell_type": "code",
   "execution_count": 19,
   "id": "1247930b-0f1a-4d83-8a9d-8577234b5cf1",
   "metadata": {},
   "outputs": [],
   "source": [
    "#Apply encoding (skip customerId as it is identifier)\n",
    "\n",
    "df[['Education_Level','Product_Quality','Satisfaction_Level']]=encoder.fit_transform(df[['Education_Level','Product_Quality','Satisfaction_Level']])"
   ]
  },
  {
   "cell_type": "code",
   "execution_count": 20,
   "id": "039f30a3-9abe-4b1d-bd71-5cf881c64880",
   "metadata": {},
   "outputs": [
    {
     "data": {
      "text/html": [
       "<div>\n",
       "<style scoped>\n",
       "    .dataframe tbody tr th:only-of-type {\n",
       "        vertical-align: middle;\n",
       "    }\n",
       "\n",
       "    .dataframe tbody tr th {\n",
       "        vertical-align: top;\n",
       "    }\n",
       "\n",
       "    .dataframe thead th {\n",
       "        text-align: right;\n",
       "    }\n",
       "</style>\n",
       "<table border=\"1\" class=\"dataframe\">\n",
       "  <thead>\n",
       "    <tr style=\"text-align: right;\">\n",
       "      <th></th>\n",
       "      <th>CustomerId</th>\n",
       "      <th>Education_Level</th>\n",
       "      <th>Product_Quality</th>\n",
       "      <th>Satisfaction_Level</th>\n",
       "    </tr>\n",
       "  </thead>\n",
       "  <tbody>\n",
       "    <tr>\n",
       "      <th>0</th>\n",
       "      <td>c001</td>\n",
       "      <td>0.0</td>\n",
       "      <td>0.0</td>\n",
       "      <td>0.0</td>\n",
       "    </tr>\n",
       "    <tr>\n",
       "      <th>1</th>\n",
       "      <td>c002</td>\n",
       "      <td>1.0</td>\n",
       "      <td>2.0</td>\n",
       "      <td>0.0</td>\n",
       "    </tr>\n",
       "    <tr>\n",
       "      <th>2</th>\n",
       "      <td>c003</td>\n",
       "      <td>2.0</td>\n",
       "      <td>1.0</td>\n",
       "      <td>1.0</td>\n",
       "    </tr>\n",
       "    <tr>\n",
       "      <th>3</th>\n",
       "      <td>c004</td>\n",
       "      <td>3.0</td>\n",
       "      <td>0.0</td>\n",
       "      <td>2.0</td>\n",
       "    </tr>\n",
       "    <tr>\n",
       "      <th>4</th>\n",
       "      <td>c005</td>\n",
       "      <td>0.0</td>\n",
       "      <td>2.0</td>\n",
       "      <td>3.0</td>\n",
       "    </tr>\n",
       "    <tr>\n",
       "      <th>5</th>\n",
       "      <td>c006</td>\n",
       "      <td>1.0</td>\n",
       "      <td>1.0</td>\n",
       "      <td>1.0</td>\n",
       "    </tr>\n",
       "    <tr>\n",
       "      <th>6</th>\n",
       "      <td>c007</td>\n",
       "      <td>2.0</td>\n",
       "      <td>0.0</td>\n",
       "      <td>2.0</td>\n",
       "    </tr>\n",
       "    <tr>\n",
       "      <th>7</th>\n",
       "      <td>c008</td>\n",
       "      <td>3.0</td>\n",
       "      <td>2.0</td>\n",
       "      <td>3.0</td>\n",
       "    </tr>\n",
       "  </tbody>\n",
       "</table>\n",
       "</div>"
      ],
      "text/plain": [
       "  CustomerId  Education_Level  Product_Quality  Satisfaction_Level\n",
       "0       c001              0.0              0.0                 0.0\n",
       "1       c002              1.0              2.0                 0.0\n",
       "2       c003              2.0              1.0                 1.0\n",
       "3       c004              3.0              0.0                 2.0\n",
       "4       c005              0.0              2.0                 3.0\n",
       "5       c006              1.0              1.0                 1.0\n",
       "6       c007              2.0              0.0                 2.0\n",
       "7       c008              3.0              2.0                 3.0"
      ]
     },
     "execution_count": 20,
     "metadata": {},
     "output_type": "execute_result"
    }
   ],
   "source": [
    "df"
   ]
  },
  {
   "cell_type": "code",
   "execution_count": null,
   "id": "e74ae8a4-d75d-4361-8631-124321ae60cb",
   "metadata": {},
   "outputs": [],
   "source": []
  }
 ],
 "metadata": {
  "kernelspec": {
   "display_name": "Python [conda env:base] *",
   "language": "python",
   "name": "conda-base-py"
  },
  "language_info": {
   "codemirror_mode": {
    "name": "ipython",
    "version": 3
   },
   "file_extension": ".py",
   "mimetype": "text/x-python",
   "name": "python",
   "nbconvert_exporter": "python",
   "pygments_lexer": "ipython3",
   "version": "3.12.7"
  }
 },
 "nbformat": 4,
 "nbformat_minor": 5
}
