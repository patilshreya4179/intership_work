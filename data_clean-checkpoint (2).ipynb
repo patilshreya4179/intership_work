{
 "cells": [
  {
   "cell_type": "code",
   "execution_count": 2,
   "id": "160c5d07-b173-4eaa-8b15-d84399dc09b7",
   "metadata": {},
   "outputs": [],
   "source": [
    "import numpy as np\n",
    "import pandas as pd"
   ]
  },
  {
   "cell_type": "code",
   "execution_count": 3,
   "id": "4039efd7-049f-49e2-83c0-273441279a57",
   "metadata": {},
   "outputs": [
    {
     "ename": "FileNotFoundError",
     "evalue": "[Errno 2] No such file or directory: 'quikr_car.csv'",
     "output_type": "error",
     "traceback": [
      "\u001b[1;31m---------------------------------------------------------------------------\u001b[0m",
      "\u001b[1;31mFileNotFoundError\u001b[0m                         Traceback (most recent call last)",
      "Cell \u001b[1;32mIn[3], line 1\u001b[0m\n\u001b[1;32m----> 1\u001b[0m ds\u001b[38;5;241m=\u001b[39mpd\u001b[38;5;241m.\u001b[39mread_csv(\u001b[38;5;124m\"\u001b[39m\u001b[38;5;124mquikr_car.csv\u001b[39m\u001b[38;5;124m\"\u001b[39m)\n\u001b[0;32m      2\u001b[0m \u001b[38;5;28mprint\u001b[39m(ds\u001b[38;5;241m.\u001b[39mto_string())\n",
      "File \u001b[1;32m~\\anaconda3\\Lib\\site-packages\\pandas\\io\\parsers\\readers.py:1026\u001b[0m, in \u001b[0;36mread_csv\u001b[1;34m(filepath_or_buffer, sep, delimiter, header, names, index_col, usecols, dtype, engine, converters, true_values, false_values, skipinitialspace, skiprows, skipfooter, nrows, na_values, keep_default_na, na_filter, verbose, skip_blank_lines, parse_dates, infer_datetime_format, keep_date_col, date_parser, date_format, dayfirst, cache_dates, iterator, chunksize, compression, thousands, decimal, lineterminator, quotechar, quoting, doublequote, escapechar, comment, encoding, encoding_errors, dialect, on_bad_lines, delim_whitespace, low_memory, memory_map, float_precision, storage_options, dtype_backend)\u001b[0m\n\u001b[0;32m   1013\u001b[0m kwds_defaults \u001b[38;5;241m=\u001b[39m _refine_defaults_read(\n\u001b[0;32m   1014\u001b[0m     dialect,\n\u001b[0;32m   1015\u001b[0m     delimiter,\n\u001b[1;32m   (...)\u001b[0m\n\u001b[0;32m   1022\u001b[0m     dtype_backend\u001b[38;5;241m=\u001b[39mdtype_backend,\n\u001b[0;32m   1023\u001b[0m )\n\u001b[0;32m   1024\u001b[0m kwds\u001b[38;5;241m.\u001b[39mupdate(kwds_defaults)\n\u001b[1;32m-> 1026\u001b[0m \u001b[38;5;28;01mreturn\u001b[39;00m _read(filepath_or_buffer, kwds)\n",
      "File \u001b[1;32m~\\anaconda3\\Lib\\site-packages\\pandas\\io\\parsers\\readers.py:620\u001b[0m, in \u001b[0;36m_read\u001b[1;34m(filepath_or_buffer, kwds)\u001b[0m\n\u001b[0;32m    617\u001b[0m _validate_names(kwds\u001b[38;5;241m.\u001b[39mget(\u001b[38;5;124m\"\u001b[39m\u001b[38;5;124mnames\u001b[39m\u001b[38;5;124m\"\u001b[39m, \u001b[38;5;28;01mNone\u001b[39;00m))\n\u001b[0;32m    619\u001b[0m \u001b[38;5;66;03m# Create the parser.\u001b[39;00m\n\u001b[1;32m--> 620\u001b[0m parser \u001b[38;5;241m=\u001b[39m TextFileReader(filepath_or_buffer, \u001b[38;5;241m*\u001b[39m\u001b[38;5;241m*\u001b[39mkwds)\n\u001b[0;32m    622\u001b[0m \u001b[38;5;28;01mif\u001b[39;00m chunksize \u001b[38;5;129;01mor\u001b[39;00m iterator:\n\u001b[0;32m    623\u001b[0m     \u001b[38;5;28;01mreturn\u001b[39;00m parser\n",
      "File \u001b[1;32m~\\anaconda3\\Lib\\site-packages\\pandas\\io\\parsers\\readers.py:1620\u001b[0m, in \u001b[0;36mTextFileReader.__init__\u001b[1;34m(self, f, engine, **kwds)\u001b[0m\n\u001b[0;32m   1617\u001b[0m     \u001b[38;5;28mself\u001b[39m\u001b[38;5;241m.\u001b[39moptions[\u001b[38;5;124m\"\u001b[39m\u001b[38;5;124mhas_index_names\u001b[39m\u001b[38;5;124m\"\u001b[39m] \u001b[38;5;241m=\u001b[39m kwds[\u001b[38;5;124m\"\u001b[39m\u001b[38;5;124mhas_index_names\u001b[39m\u001b[38;5;124m\"\u001b[39m]\n\u001b[0;32m   1619\u001b[0m \u001b[38;5;28mself\u001b[39m\u001b[38;5;241m.\u001b[39mhandles: IOHandles \u001b[38;5;241m|\u001b[39m \u001b[38;5;28;01mNone\u001b[39;00m \u001b[38;5;241m=\u001b[39m \u001b[38;5;28;01mNone\u001b[39;00m\n\u001b[1;32m-> 1620\u001b[0m \u001b[38;5;28mself\u001b[39m\u001b[38;5;241m.\u001b[39m_engine \u001b[38;5;241m=\u001b[39m \u001b[38;5;28mself\u001b[39m\u001b[38;5;241m.\u001b[39m_make_engine(f, \u001b[38;5;28mself\u001b[39m\u001b[38;5;241m.\u001b[39mengine)\n",
      "File \u001b[1;32m~\\anaconda3\\Lib\\site-packages\\pandas\\io\\parsers\\readers.py:1880\u001b[0m, in \u001b[0;36mTextFileReader._make_engine\u001b[1;34m(self, f, engine)\u001b[0m\n\u001b[0;32m   1878\u001b[0m     \u001b[38;5;28;01mif\u001b[39;00m \u001b[38;5;124m\"\u001b[39m\u001b[38;5;124mb\u001b[39m\u001b[38;5;124m\"\u001b[39m \u001b[38;5;129;01mnot\u001b[39;00m \u001b[38;5;129;01min\u001b[39;00m mode:\n\u001b[0;32m   1879\u001b[0m         mode \u001b[38;5;241m+\u001b[39m\u001b[38;5;241m=\u001b[39m \u001b[38;5;124m\"\u001b[39m\u001b[38;5;124mb\u001b[39m\u001b[38;5;124m\"\u001b[39m\n\u001b[1;32m-> 1880\u001b[0m \u001b[38;5;28mself\u001b[39m\u001b[38;5;241m.\u001b[39mhandles \u001b[38;5;241m=\u001b[39m get_handle(\n\u001b[0;32m   1881\u001b[0m     f,\n\u001b[0;32m   1882\u001b[0m     mode,\n\u001b[0;32m   1883\u001b[0m     encoding\u001b[38;5;241m=\u001b[39m\u001b[38;5;28mself\u001b[39m\u001b[38;5;241m.\u001b[39moptions\u001b[38;5;241m.\u001b[39mget(\u001b[38;5;124m\"\u001b[39m\u001b[38;5;124mencoding\u001b[39m\u001b[38;5;124m\"\u001b[39m, \u001b[38;5;28;01mNone\u001b[39;00m),\n\u001b[0;32m   1884\u001b[0m     compression\u001b[38;5;241m=\u001b[39m\u001b[38;5;28mself\u001b[39m\u001b[38;5;241m.\u001b[39moptions\u001b[38;5;241m.\u001b[39mget(\u001b[38;5;124m\"\u001b[39m\u001b[38;5;124mcompression\u001b[39m\u001b[38;5;124m\"\u001b[39m, \u001b[38;5;28;01mNone\u001b[39;00m),\n\u001b[0;32m   1885\u001b[0m     memory_map\u001b[38;5;241m=\u001b[39m\u001b[38;5;28mself\u001b[39m\u001b[38;5;241m.\u001b[39moptions\u001b[38;5;241m.\u001b[39mget(\u001b[38;5;124m\"\u001b[39m\u001b[38;5;124mmemory_map\u001b[39m\u001b[38;5;124m\"\u001b[39m, \u001b[38;5;28;01mFalse\u001b[39;00m),\n\u001b[0;32m   1886\u001b[0m     is_text\u001b[38;5;241m=\u001b[39mis_text,\n\u001b[0;32m   1887\u001b[0m     errors\u001b[38;5;241m=\u001b[39m\u001b[38;5;28mself\u001b[39m\u001b[38;5;241m.\u001b[39moptions\u001b[38;5;241m.\u001b[39mget(\u001b[38;5;124m\"\u001b[39m\u001b[38;5;124mencoding_errors\u001b[39m\u001b[38;5;124m\"\u001b[39m, \u001b[38;5;124m\"\u001b[39m\u001b[38;5;124mstrict\u001b[39m\u001b[38;5;124m\"\u001b[39m),\n\u001b[0;32m   1888\u001b[0m     storage_options\u001b[38;5;241m=\u001b[39m\u001b[38;5;28mself\u001b[39m\u001b[38;5;241m.\u001b[39moptions\u001b[38;5;241m.\u001b[39mget(\u001b[38;5;124m\"\u001b[39m\u001b[38;5;124mstorage_options\u001b[39m\u001b[38;5;124m\"\u001b[39m, \u001b[38;5;28;01mNone\u001b[39;00m),\n\u001b[0;32m   1889\u001b[0m )\n\u001b[0;32m   1890\u001b[0m \u001b[38;5;28;01massert\u001b[39;00m \u001b[38;5;28mself\u001b[39m\u001b[38;5;241m.\u001b[39mhandles \u001b[38;5;129;01mis\u001b[39;00m \u001b[38;5;129;01mnot\u001b[39;00m \u001b[38;5;28;01mNone\u001b[39;00m\n\u001b[0;32m   1891\u001b[0m f \u001b[38;5;241m=\u001b[39m \u001b[38;5;28mself\u001b[39m\u001b[38;5;241m.\u001b[39mhandles\u001b[38;5;241m.\u001b[39mhandle\n",
      "File \u001b[1;32m~\\anaconda3\\Lib\\site-packages\\pandas\\io\\common.py:873\u001b[0m, in \u001b[0;36mget_handle\u001b[1;34m(path_or_buf, mode, encoding, compression, memory_map, is_text, errors, storage_options)\u001b[0m\n\u001b[0;32m    868\u001b[0m \u001b[38;5;28;01melif\u001b[39;00m \u001b[38;5;28misinstance\u001b[39m(handle, \u001b[38;5;28mstr\u001b[39m):\n\u001b[0;32m    869\u001b[0m     \u001b[38;5;66;03m# Check whether the filename is to be opened in binary mode.\u001b[39;00m\n\u001b[0;32m    870\u001b[0m     \u001b[38;5;66;03m# Binary mode does not support 'encoding' and 'newline'.\u001b[39;00m\n\u001b[0;32m    871\u001b[0m     \u001b[38;5;28;01mif\u001b[39;00m ioargs\u001b[38;5;241m.\u001b[39mencoding \u001b[38;5;129;01mand\u001b[39;00m \u001b[38;5;124m\"\u001b[39m\u001b[38;5;124mb\u001b[39m\u001b[38;5;124m\"\u001b[39m \u001b[38;5;129;01mnot\u001b[39;00m \u001b[38;5;129;01min\u001b[39;00m ioargs\u001b[38;5;241m.\u001b[39mmode:\n\u001b[0;32m    872\u001b[0m         \u001b[38;5;66;03m# Encoding\u001b[39;00m\n\u001b[1;32m--> 873\u001b[0m         handle \u001b[38;5;241m=\u001b[39m \u001b[38;5;28mopen\u001b[39m(\n\u001b[0;32m    874\u001b[0m             handle,\n\u001b[0;32m    875\u001b[0m             ioargs\u001b[38;5;241m.\u001b[39mmode,\n\u001b[0;32m    876\u001b[0m             encoding\u001b[38;5;241m=\u001b[39mioargs\u001b[38;5;241m.\u001b[39mencoding,\n\u001b[0;32m    877\u001b[0m             errors\u001b[38;5;241m=\u001b[39merrors,\n\u001b[0;32m    878\u001b[0m             newline\u001b[38;5;241m=\u001b[39m\u001b[38;5;124m\"\u001b[39m\u001b[38;5;124m\"\u001b[39m,\n\u001b[0;32m    879\u001b[0m         )\n\u001b[0;32m    880\u001b[0m     \u001b[38;5;28;01melse\u001b[39;00m:\n\u001b[0;32m    881\u001b[0m         \u001b[38;5;66;03m# Binary mode\u001b[39;00m\n\u001b[0;32m    882\u001b[0m         handle \u001b[38;5;241m=\u001b[39m \u001b[38;5;28mopen\u001b[39m(handle, ioargs\u001b[38;5;241m.\u001b[39mmode)\n",
      "\u001b[1;31mFileNotFoundError\u001b[0m: [Errno 2] No such file or directory: 'quikr_car.csv'"
     ]
    }
   ],
   "source": [
    "ds=pd.read_csv(\"quikr_car.csv\")\n",
    "print(ds.to_string())"
   ]
  },
  {
   "cell_type": "code",
   "execution_count": null,
   "id": "65b6eaea-05ae-4acc-9af3-67e9e24acffc",
   "metadata": {},
   "outputs": [],
   "source": [
    "ds.info()"
   ]
  },
  {
   "cell_type": "code",
   "execution_count": 4,
   "id": "697d2f42-5ac3-4ad4-8499-5a72b0429a69",
   "metadata": {},
   "outputs": [
    {
     "ename": "NameError",
     "evalue": "name 'ds' is not defined",
     "output_type": "error",
     "traceback": [
      "\u001b[1;31m---------------------------------------------------------------------------\u001b[0m",
      "\u001b[1;31mNameError\u001b[0m                                 Traceback (most recent call last)",
      "Cell \u001b[1;32mIn[4], line 1\u001b[0m\n\u001b[1;32m----> 1\u001b[0m ds\u001b[38;5;241m.\u001b[39mdescribe()\n",
      "\u001b[1;31mNameError\u001b[0m: name 'ds' is not defined"
     ]
    }
   ],
   "source": [
    "ds.describe()"
   ]
  },
  {
   "cell_type": "code",
   "execution_count": 5,
   "id": "f29654e2-9b16-40cc-9250-e1d5461815fa",
   "metadata": {},
   "outputs": [
    {
     "ename": "NameError",
     "evalue": "name 'ds' is not defined",
     "output_type": "error",
     "traceback": [
      "\u001b[1;31m---------------------------------------------------------------------------\u001b[0m",
      "\u001b[1;31mNameError\u001b[0m                                 Traceback (most recent call last)",
      "Cell \u001b[1;32mIn[5], line 1\u001b[0m\n\u001b[1;32m----> 1\u001b[0m ds[\u001b[38;5;124m\"\u001b[39m\u001b[38;5;124myear\u001b[39m\u001b[38;5;124m\"\u001b[39m]\u001b[38;5;241m.\u001b[39munique()\n",
      "\u001b[1;31mNameError\u001b[0m: name 'ds' is not defined"
     ]
    }
   ],
   "source": [
    "ds[\"year\"].unique()"
   ]
  },
  {
   "cell_type": "code",
   "execution_count": 6,
   "id": "9189a2da-0e09-4e52-ba18-02c554bbde8b",
   "metadata": {},
   "outputs": [
    {
     "ename": "NameError",
     "evalue": "name 'ds' is not defined",
     "output_type": "error",
     "traceback": [
      "\u001b[1;31m---------------------------------------------------------------------------\u001b[0m",
      "\u001b[1;31mNameError\u001b[0m                                 Traceback (most recent call last)",
      "Cell \u001b[1;32mIn[6], line 1\u001b[0m\n\u001b[1;32m----> 1\u001b[0m ds\u001b[38;5;241m.\u001b[39mdropna(inplace\u001b[38;5;241m=\u001b[39m\u001b[38;5;28;01mTrue\u001b[39;00m)\n",
      "\u001b[1;31mNameError\u001b[0m: name 'ds' is not defined"
     ]
    }
   ],
   "source": [
    "ds.dropna(inplace=True)"
   ]
  },
  {
   "cell_type": "code",
   "execution_count": 7,
   "id": "621409ac-d06b-4555-b4ee-d5a8af87cc70",
   "metadata": {},
   "outputs": [
    {
     "ename": "NameError",
     "evalue": "name 'ds' is not defined",
     "output_type": "error",
     "traceback": [
      "\u001b[1;31m---------------------------------------------------------------------------\u001b[0m",
      "\u001b[1;31mNameError\u001b[0m                                 Traceback (most recent call last)",
      "Cell \u001b[1;32mIn[7], line 3\u001b[0m\n\u001b[0;32m      1\u001b[0m \u001b[38;5;66;03m# for year\u001b[39;00m\n\u001b[1;32m----> 3\u001b[0m ds[\u001b[38;5;124m\"\u001b[39m\u001b[38;5;124myear\u001b[39m\u001b[38;5;124m\"\u001b[39m]\u001b[38;5;241m=\u001b[39mpd\u001b[38;5;241m.\u001b[39mto_numeric(ds[\u001b[38;5;124m\"\u001b[39m\u001b[38;5;124myear\u001b[39m\u001b[38;5;124m\"\u001b[39m],errors\u001b[38;5;241m=\u001b[39m\u001b[38;5;124m'\u001b[39m\u001b[38;5;124mcoerce\u001b[39m\u001b[38;5;124m'\u001b[39m)\n",
      "\u001b[1;31mNameError\u001b[0m: name 'ds' is not defined"
     ]
    }
   ],
   "source": [
    "# for year\n",
    "\n",
    "ds[\"year\"]=pd.to_numeric(ds[\"year\"],errors='coerce')"
   ]
  },
  {
   "cell_type": "code",
   "execution_count": 8,
   "id": "42c28dda-ff75-43f1-a3c0-630d33906cc0",
   "metadata": {},
   "outputs": [
    {
     "ename": "NameError",
     "evalue": "name 'ds' is not defined",
     "output_type": "error",
     "traceback": [
      "\u001b[1;31m---------------------------------------------------------------------------\u001b[0m",
      "\u001b[1;31mNameError\u001b[0m                                 Traceback (most recent call last)",
      "Cell \u001b[1;32mIn[8], line 1\u001b[0m\n\u001b[1;32m----> 1\u001b[0m ds\u001b[38;5;241m.\u001b[39minfo()\n",
      "\u001b[1;31mNameError\u001b[0m: name 'ds' is not defined"
     ]
    }
   ],
   "source": [
    "ds.info()"
   ]
  },
  {
   "cell_type": "code",
   "execution_count": 9,
   "id": "537e76cc-4b6d-4d3a-beea-2976befa314f",
   "metadata": {},
   "outputs": [
    {
     "ename": "NameError",
     "evalue": "name 'ds' is not defined",
     "output_type": "error",
     "traceback": [
      "\u001b[1;31m---------------------------------------------------------------------------\u001b[0m",
      "\u001b[1;31mNameError\u001b[0m                                 Traceback (most recent call last)",
      "Cell \u001b[1;32mIn[9], line 3\u001b[0m\n\u001b[0;32m      1\u001b[0m \u001b[38;5;66;03m# for price\u001b[39;00m\n\u001b[1;32m----> 3\u001b[0m ds[\u001b[38;5;124m\"\u001b[39m\u001b[38;5;124mPrice\u001b[39m\u001b[38;5;124m\"\u001b[39m]\u001b[38;5;241m.\u001b[39munique()\n",
      "\u001b[1;31mNameError\u001b[0m: name 'ds' is not defined"
     ]
    }
   ],
   "source": [
    "# for price\n",
    "\n",
    "ds[\"Price\"].unique()"
   ]
  },
  {
   "cell_type": "code",
   "execution_count": 19,
   "id": "7756656e-af42-416e-95ac-6a08ca55eb73",
   "metadata": {},
   "outputs": [],
   "source": [
    "ds[\"Price\"]=ds[\"Price\"].str.replace(\",\",\"\")"
   ]
  },
  {
   "cell_type": "code",
   "execution_count": 21,
   "id": "356a079d-3d30-4384-a84c-747a2da10c74",
   "metadata": {},
   "outputs": [],
   "source": [
    "ds[\"Price\"]=pd.to_numeric(ds[\"Price\"],errors='coerce')"
   ]
  },
  {
   "cell_type": "code",
   "execution_count": 23,
   "id": "11b37cf5-3607-4b12-9a8f-a32d100e083a",
   "metadata": {},
   "outputs": [
    {
     "data": {
      "text/plain": [
       "array([  80000.,  425000.,      nan,  325000.,  575000.,  175000.,\n",
       "        190000.,  830000.,  250000.,  182000.,  315000.,  415000.,\n",
       "        320000., 1000000.,  500000.,  350000.,  160000.,  310000.,\n",
       "         75000.,  100000.,  290000.,   95000.,  180000.,  385000.,\n",
       "        105000.,  650000.,  689999.,  448000.,  549000.,  501000.,\n",
       "        489999.,  280000.,  349999.,  284999.,  345000.,  499999.,\n",
       "        235000.,  249999., 1475000.,  395000.,  220000.,  170000.,\n",
       "         85000.,  200000.,  570000.,  110000.,  448999., 1891111.,\n",
       "        159500.,  344999.,  449999.,  865000.,  699000.,  375000.,\n",
       "        224999., 1200000.,  195000.,  351000.,  240000.,   90000.,\n",
       "        155000.,  600000.,  189500.,  210000.,  390000.,  135000.,\n",
       "       1600000.,  701000.,  265000.,  525000.,  372000.,  635000.,\n",
       "        550000.,  485000.,  329500.,  251111.,  569999.,   69999.,\n",
       "        299999.,  399999.,  450000.,  270000.,  158400.,  179000.,\n",
       "        125000.,  299000.,  150000.,  285000.,  340000.,   70000.,\n",
       "        289999.,  849999.,  749999.,  274999.,  984999.,  599999.,\n",
       "        244999.,  474999.,  245000.,  169500.,  275000.,  370000.,\n",
       "        168000.,  145000.,   98500.,  209000.,  185000.,  900000.,\n",
       "        699999.,  199999.,  544999.,  199000.,  540000.,   49000.,\n",
       "        700000.,   55000.,  895000.,  355000.,  565000.,  365000.,\n",
       "         40000.,  400000.,  330000.,  580000.,  379000.,  219000.,\n",
       "        519000.,  730000., 2000000., 2100000., 1400000.,  311000.,\n",
       "        855000.,  535000.,  178000.,  300000.,  255000.,  549999.,\n",
       "        380000.,   57000.,  410000.,  225000.,  120000.,   59000.,\n",
       "        599000.,  675000.,   72500.,  610000.,  230000.,  520000.,\n",
       "        524999.,  424999.,  644999.,  584999.,  799999.,  444999.,\n",
       "        649999.,  944999.,  574999.,  374999.,  130000.,  401000.,\n",
       "       1350000.,  174999.,  239999.,   99999.,  324999., 1074999.,\n",
       "       1130000.,  149000.,  770000.,   30000.,  335000.,  399000.,\n",
       "         65000.,  169999.,  165000.,  560000.,  950000.,  715000.,\n",
       "         45000.,  940000.,  155555., 1500000.,  495000.,  800000.,\n",
       "       1299000.,  530000., 1499000.,   32000.,  405000.,  760000.,\n",
       "        750000.,  419000.,  140000., 1540000.,  123000.,  498000.,\n",
       "        480000.,  488000., 1525000.,  548900.,  725000.,   99000.,\n",
       "         52000., 2800000.,  499000.,  381000.,  278000.,  690000.,\n",
       "        260000.,   90001.,  115000., 1599000.,  159000.,   51999.,\n",
       "        215000.,   35000., 1150000.,  269000.,   60000.,  430000.,\n",
       "       8500003.,  401919.,  490000.,  424000.,  205000.,  549900.,\n",
       "        435000.,  189700.,  389700.,  360000.,  295000.,  114990.,\n",
       "       1065000.,  470000.,   48000.,  188000.,  465000.,  179999.,\n",
       "       2190000., 2390000., 1075000.,  475000., 1025000.,  615000.,\n",
       "       1900000., 1490000., 1510000., 1850000.,  790000., 1725000.,\n",
       "       1225000.,   68000.,  970000., 3100000.,  899000.,   88000.,\n",
       "         53000.,  568500.,   71000.,  590000.,  795000.,   42000.,\n",
       "        189000.,  162000.,   35999., 2900000.,   39999.,   50500.,\n",
       "        510000.,  860000.,  500001.])"
      ]
     },
     "execution_count": 23,
     "metadata": {},
     "output_type": "execute_result"
    }
   ],
   "source": [
    "ds[\"Price\"].unique()"
   ]
  },
  {
   "cell_type": "code",
   "execution_count": 25,
   "id": "c704fdaf-ad9b-49cb-a2b9-99501ffc3d21",
   "metadata": {},
   "outputs": [],
   "source": [
    "# for kms_driven\n",
    "ds[\"kms_driven\"]=ds[\"kms_driven\"].str.replace(\",\",\"\").str.replace(\" kms\",\"\")"
   ]
  },
  {
   "cell_type": "code",
   "execution_count": 27,
   "id": "0d537994-d566-4d94-9701-537800beb13a",
   "metadata": {},
   "outputs": [],
   "source": [
    "ds[\"kms_driven\"]=pd.to_numeric(ds[\"kms_driven\"],errors='coerce')"
   ]
  },
  {
   "cell_type": "code",
   "execution_count": 29,
   "id": "e8e40315-f279-4c83-9cc9-08b5685e7b9e",
   "metadata": {},
   "outputs": [],
   "source": [
    "ds=ds[ds[\"kms_driven\"] >=10000] "
   ]
  },
  {
   "cell_type": "code",
   "execution_count": 31,
   "id": "c403a816-fc99-41ad-ad64-b29b08acdb27",
   "metadata": {},
   "outputs": [],
   "source": [
    "ds=ds[ds[\"kms_driven\"] <=200000] "
   ]
  },
  {
   "cell_type": "code",
   "execution_count": 33,
   "id": "256ee7b6-1c4b-47b1-8d5f-81c809ba303b",
   "metadata": {},
   "outputs": [
    {
     "name": "stdout",
     "output_type": "stream",
     "text": [
      "<class 'pandas.core.frame.DataFrame'>\n",
      "Index: 751 entries, 0 to 889\n",
      "Data columns (total 6 columns):\n",
      " #   Column      Non-Null Count  Dtype  \n",
      "---  ------      --------------  -----  \n",
      " 0   name        751 non-null    object \n",
      " 1   company     751 non-null    object \n",
      " 2   year        751 non-null    int64  \n",
      " 3   Price       736 non-null    float64\n",
      " 4   kms_driven  751 non-null    int64  \n",
      " 5   fuel_type   751 non-null    object \n",
      "dtypes: float64(1), int64(2), object(3)\n",
      "memory usage: 41.1+ KB\n"
     ]
    }
   ],
   "source": [
    "ds.info()"
   ]
  },
  {
   "cell_type": "code",
   "execution_count": 35,
   "id": "c72d0ac7-7baa-4504-8873-f5b49626a11b",
   "metadata": {},
   "outputs": [
    {
     "data": {
      "text/plain": [
       "[10000,\n",
       " 10544,\n",
       " 10750,\n",
       " 11000,\n",
       " 11400,\n",
       " 11500,\n",
       " 11523,\n",
       " 12000,\n",
       " 12500,\n",
       " 12516,\n",
       " 13000,\n",
       " 13349,\n",
       " 13500,\n",
       " 13900,\n",
       " 14000,\n",
       " 15000,\n",
       " 15141,\n",
       " 15487,\n",
       " 15574,\n",
       " 15975,\n",
       " 16000,\n",
       " 16934,\n",
       " 18000,\n",
       " 18500,\n",
       " 19000,\n",
       " 19336,\n",
       " 20000,\n",
       " 21000,\n",
       " 22000,\n",
       " 22134,\n",
       " 23000,\n",
       " 23452,\n",
       " 24000,\n",
       " 24330,\n",
       " 24530,\n",
       " 24652,\n",
       " 24695,\n",
       " 24800,\n",
       " 25000,\n",
       " 25500,\n",
       " 26500,\n",
       " 27000,\n",
       " 28000,\n",
       " 28028,\n",
       " 28400,\n",
       " 28600,\n",
       " 29000,\n",
       " 29500,\n",
       " 29685,\n",
       " 30000,\n",
       " 30201,\n",
       " 30600,\n",
       " 30874,\n",
       " 31000,\n",
       " 32000,\n",
       " 32700,\n",
       " 33000,\n",
       " 33333,\n",
       " 33400,\n",
       " 33600,\n",
       " 34000,\n",
       " 34580,\n",
       " 35000,\n",
       " 35500,\n",
       " 35522,\n",
       " 35550,\n",
       " 36000,\n",
       " 36200,\n",
       " 36469,\n",
       " 37000,\n",
       " 37200,\n",
       " 37458,\n",
       " 37518,\n",
       " 38000,\n",
       " 38200,\n",
       " 38500,\n",
       " 38600,\n",
       " 38900,\n",
       " 39000,\n",
       " 39522,\n",
       " 39700,\n",
       " 40000,\n",
       " 41000,\n",
       " 41800,\n",
       " 42000,\n",
       " 42590,\n",
       " 43000,\n",
       " 43200,\n",
       " 43222,\n",
       " 44000,\n",
       " 44005,\n",
       " 45000,\n",
       " 45863,\n",
       " 45872,\n",
       " 45933,\n",
       " 46000,\n",
       " 47000,\n",
       " 47900,\n",
       " 48000,\n",
       " 48006,\n",
       " 48008,\n",
       " 48247,\n",
       " 48508,\n",
       " 48660,\n",
       " 49000,\n",
       " 49500,\n",
       " 49800,\n",
       " 50000,\n",
       " 51000,\n",
       " 52000,\n",
       " 52500,\n",
       " 52800,\n",
       " 53000,\n",
       " 54000,\n",
       " 54500,\n",
       " 54870,\n",
       " 55000,\n",
       " 55700,\n",
       " 55800,\n",
       " 56000,\n",
       " 56400,\n",
       " 56450,\n",
       " 56758,\n",
       " 57000,\n",
       " 57923,\n",
       " 58000,\n",
       " 58559,\n",
       " 59000,\n",
       " 59466,\n",
       " 59910,\n",
       " 60000,\n",
       " 60105,\n",
       " 60123,\n",
       " 60500,\n",
       " 62000,\n",
       " 62500,\n",
       " 63000,\n",
       " 64000,\n",
       " 65000,\n",
       " 65422,\n",
       " 65480,\n",
       " 66000,\n",
       " 67000,\n",
       " 68000,\n",
       " 68485,\n",
       " 69000,\n",
       " 69900,\n",
       " 70000,\n",
       " 71200,\n",
       " 72000,\n",
       " 72160,\n",
       " 73000,\n",
       " 74000,\n",
       " 75000,\n",
       " 76000,\n",
       " 77000,\n",
       " 80000,\n",
       " 80200,\n",
       " 81876,\n",
       " 82000,\n",
       " 84000,\n",
       " 85000,\n",
       " 85455,\n",
       " 85960,\n",
       " 87000,\n",
       " 88000,\n",
       " 90000,\n",
       " 90001,\n",
       " 91200,\n",
       " 95000,\n",
       " 95500,\n",
       " 97000,\n",
       " 97200,\n",
       " 99000,\n",
       " 100000,\n",
       " 100200,\n",
       " 100800,\n",
       " 102563,\n",
       " 103553,\n",
       " 104000,\n",
       " 111111,\n",
       " 116000,\n",
       " 117000,\n",
       " 120000,\n",
       " 129000,\n",
       " 130000,\n",
       " 131000,\n",
       " 132000,\n",
       " 133000,\n",
       " 137495,\n",
       " 140000,\n",
       " 146000,\n",
       " 147000,\n",
       " 150000,\n",
       " 160000,\n",
       " 166000,\n",
       " 170000,\n",
       " 175400,\n",
       " 175430,\n",
       " 180000,\n",
       " 195000,\n",
       " 200000]"
      ]
     },
     "execution_count": 35,
     "metadata": {},
     "output_type": "execute_result"
    }
   ],
   "source": [
    "sorted(ds[\"kms_driven\"].unique())"
   ]
  },
  {
   "cell_type": "code",
   "execution_count": 37,
   "id": "290368fb-b4f8-4791-8257-09ec4015cf1f",
   "metadata": {},
   "outputs": [
    {
     "data": {
      "text/plain": [
       "array(['Petrol', 'Diesel', 'LPG'], dtype=object)"
      ]
     },
     "execution_count": 37,
     "metadata": {},
     "output_type": "execute_result"
    }
   ],
   "source": [
    "ds[\"fuel_type\"].unique()"
   ]
  },
  {
   "cell_type": "code",
   "execution_count": 39,
   "id": "08777866-ca2d-4e6e-9758-0e2dba6dd26e",
   "metadata": {},
   "outputs": [
    {
     "name": "stdout",
     "output_type": "stream",
     "text": [
      "<class 'pandas.core.frame.DataFrame'>\n",
      "Index: 751 entries, 0 to 889\n",
      "Data columns (total 6 columns):\n",
      " #   Column      Non-Null Count  Dtype  \n",
      "---  ------      --------------  -----  \n",
      " 0   name        751 non-null    object \n",
      " 1   company     751 non-null    object \n",
      " 2   year        751 non-null    int64  \n",
      " 3   Price       736 non-null    float64\n",
      " 4   kms_driven  751 non-null    int64  \n",
      " 5   fuel_type   751 non-null    object \n",
      "dtypes: float64(1), int64(2), object(3)\n",
      "memory usage: 41.1+ KB\n"
     ]
    }
   ],
   "source": [
    "ds.info()"
   ]
  },
  {
   "cell_type": "code",
   "execution_count": 41,
   "id": "cdf7eea6-0507-42d4-8a73-44ac44c20e25",
   "metadata": {},
   "outputs": [
    {
     "data": {
      "text/plain": [
       "array(['Hyundai', 'Maruti', 'Ford', 'Skoda', 'Mahindra', 'Audi', 'Toyota',\n",
       "       'Renault', 'Honda', 'Datsun', 'Mitsubishi', 'Tata', 'Volkswagen',\n",
       "       'Chevrolet', 'Mini', 'BMW', 'Nissan', 'Hindustan', 'Fiat',\n",
       "       'Mercedes', 'Land', 'Force', 'Jaguar', 'Volvo'], dtype=object)"
      ]
     },
     "execution_count": 41,
     "metadata": {},
     "output_type": "execute_result"
    }
   ],
   "source": [
    "ds[\"company\"].unique()"
   ]
  },
  {
   "cell_type": "code",
   "execution_count": 43,
   "id": "0dc1c838-917e-4e58-b98d-d2d7b41b453d",
   "metadata": {},
   "outputs": [],
   "source": [
    "for i in ds.index:\n",
    "    company=ds.loc[i,\"company\"]\n",
    "    name=ds.loc[i,\"name\"]\n",
    "    name=name.replace(company,\"\").strip()\n",
    "    ds.loc[i,\"name\"]=name"
   ]
  },
  {
   "cell_type": "code",
   "execution_count": 45,
   "id": "95b5f18c-38cc-4182-a528-f36f378beb97",
   "metadata": {},
   "outputs": [
    {
     "data": {
      "text/plain": [
       "array(['Santro Xing XO eRLX Euro III', 'Suzuki Alto 800 Vxi',\n",
       "       'Grand i10 Magna 1.2 Kappa VTVT', 'EcoSport Titanium 1.5L TDCi',\n",
       "       'Figo', 'Eon', 'EcoSport Ambiente 1.5L TDCi',\n",
       "       'Suzuki Alto K10 VXi AMT', 'Fabia Classic 1.2 MPI',\n",
       "       'Suzuki Stingray VXi', 'Elite i20 Magna 1.2', 'Scorpio SLE BS IV',\n",
       "       'Q7', 'Scorpio S10', 'Suzuki Alto 800', 'i20 Sportz 1.2',\n",
       "       'Suzuki Alto 800 Lx', 'Suzuki Vitara Brezza ZDi', 'Suzuki Alto LX',\n",
       "       'Bolero DI', 'Suzuki Swift Dzire ZDi', 'Scorpio S10 4WD',\n",
       "       'Suzuki Swift Vdi BSIII', 'Suzuki Wagon R VXi BS III',\n",
       "       'Suzuki Wagon R VXi Minor', 'Innova 2.0 G 8 STR BS IV',\n",
       "       'Lodgy 85 PS RXL', 'Yeti Ambition 2.0 TDI CR 4x2',\n",
       "       'Suzuki Baleno Delta 1.2', 'Duster 110 PS RxZ Diesel Plus',\n",
       "       'Duster 85 PS RxE Diesel', 'City 1.5 S MT', 'Suzuki Dzire',\n",
       "       'Amaze', 'Amaze 1.5 SX i DTEC', 'City', 'Redi GO S',\n",
       "       'Suzuki SX4 ZXI MT', 'Pajero Sport Limited Edition',\n",
       "       'Suzuki Swift VXi 1.2 ABS BS IV', 'City ZX CVT',\n",
       "       'Suzuki Wagon R LX BS IV', 'Indigo eCS LS CR4 BS IV',\n",
       "       'Polo Highline Exquisite P', 'Spark LS 1.0',\n",
       "       'Duster 110PS Diesel RxZ', 'Cooper S 1.6',\n",
       "       'Fabia 1.2L Diesel Ambiente', 'Duster', 'Scorpio S4',\n",
       "       'Scorpio VLX 2WD BS IV', 'Quanto C8', 'EcoSport', 'Brio',\n",
       "       'i20 Magna', 'Corolla Altis Diesel D4DG',\n",
       "       'Verna Transform SX VTVT', 'Corolla Altis Petrol Ltd',\n",
       "       'City 1.5 EXi New', 'Fabia 1.2L Diesel Elegance', '3 Series 320i',\n",
       "       'Suzuki A Star Lxi', 'Etios GD', 'Figo Diesel EXI Option',\n",
       "       'Suzuki Swift Dzire VXi 1.2 BS IV', 'Beat LT Diesel',\n",
       "       '7 Series 740Li Sedan', 'XUV500 W8 AWD 2013', 'i10 Magna 1.2',\n",
       "       'Verna Fluidic New', 'Suzuki Swift VXi 1.2 BS IV',\n",
       "       'Suzuki Ertiga ZXI Plus', 'Suzuki Ertiga Vxi', 'Suzuki Ertiga VDi',\n",
       "       'Suzuki Alto LXi BS III', 'Grand i10 Asta 1.1 CRDi',\n",
       "       'Amaze 1.2 S i VTEC', 'i20 Asta 1.4 CRDI 6 Speed',\n",
       "       'Figo Diesel EXI', 'Suzuki Eeco 5 STR WITH AC HTR',\n",
       "       'Suzuki Ertiga ZXi', 'Suzuki Esteem LXi BS III', 'Suzuki Ritz VXI',\n",
       "       'Suzuki Ritz LDi', 'Suzuki Dzire VDI', 'Etios Liva G',\n",
       "       'i20 Sportz 1.4 CRDI', 'Spark', 'Micra XV', 'Suzuki Swift',\n",
       "       'Amaze 1.5 S i DTEC', 'Beat', 'City 1.5 V MT',\n",
       "       'EcoSport Trend 1.5L TDCi', 'i20 Asta 1.2', 'Indica V2 eLS',\n",
       "       'Suzuki Alto 800 Lxi', 'Motors Ambassador', 'Corolla Altis 1.8 GL',\n",
       "       'Corolla Altis 1.8 J', 'Innova 2.5 GX BS IV 7 STR',\n",
       "       'Jetta Highline TDI AT', 'Polo', 'Scorpio', 'Sunny', 'Elite i20',\n",
       "       'Kwid', 'Scorpio VLX Airbag', 'Spark LT 1.0',\n",
       "       'Suzuki Swift RS VDI', 'Punto Emotion 1.2', 'i10 Sportz 1.2',\n",
       "       'Beat LT Opt Diesel', 'Beat LS Diesel', 'Indigo CS',\n",
       "       'Suzuki Swift VDi', 'Eon Era Plus', 'XUV500', 'Fiesta',\n",
       "       'Suzuki Wagon R', 'i20', 'Indigo eCS LX TDI BS III',\n",
       "       'Fluidic Verna 1.6 CRDi SX', 'Petra ELX 1.2 PS', 'Suzuki Zen VX',\n",
       "       'Creta 1.6 SX Plus Petrol', 'Scorpio SLX',\n",
       "       'Innova 2.5 G BS III 8 STR', 'Suzuki Wagon R LXI BS IV',\n",
       "       'Suzuki Alto Std BS IV', 'Suzuki Wagon R LXi BS III',\n",
       "       'Suzuki Swift VXI BSIII', 'Sumo Victa EX 10 by 7 Str BSIII',\n",
       "       'Passat Diesel Comfortline AT', 'Scala RxL Diesel Travelogue',\n",
       "       'Grand i10 Sportz O 1.2 Kappa VTVT', 'i20 Active 1.2 SX',\n",
       "       'Xylo E4', 'Bolero SLE BS IV', 'Suzuki SX4', 'Etios',\n",
       "       'City ZX VTEC', 'Suzuki Wagon R LX BS III', 'City VX O MT Diesel',\n",
       "       'Thar CRDe 4x4 AC', 'A4 1.8 TFSI Multitronic Premium Plus',\n",
       "       'Benz GLA Class 200 CDI Sport', 'Rover Freelander 2 SE',\n",
       "       'Aria Pleasure 4X2', 'Benz B Class B180 Sports', 'Jazz VX MT',\n",
       "       'i20 Active 1.4L SX O', 'Cooper S', 'Suzuki Ciaz ZXI Plus',\n",
       "       'Tavera Neo', 'Eon Sportz', 'Sumo Gold Select Variant',\n",
       "       'Suzuki Wagon R 1.0', 'Suzuki Esteem VXi BS III',\n",
       "       'Enjoy 1.4 LS 8 STR', 'Suzuki Wagon R 1.0 VXi',\n",
       "       'Terrano XL D Plus', 'Duster 85 PS RxL Diesel', 'Suzuki Dzire ZXI',\n",
       "       'Kwid RXT Opt', 'Suzuki  800 Std', 'Kwid 1.0 RXT AMT',\n",
       "       'Scala RxL Diesel', 'Grand i10 Asta 1.2 Kappa VTVT O',\n",
       "       'Beat LS Petrol', 'Accent GLX', 'Suzuki Swift LDi',\n",
       "       'Indica V2 Xeta e GLE', 'Indigo CS LS DiCOR',\n",
       "       'Scorpio VLX Special Edition BS III', 'Indica eV2 LS', 'Accord',\n",
       "       'EcoSport Titanium 1.5 TDCi', 'Suzuki Ertiga', 'Scorpio 2.6 CRDe',\n",
       "       'Mobilio', 'Corolla Altis', 'Laura', 'Verna Fluidic',\n",
       "       'Suzuki Vitara Brezza', 'Manza Aura Quadrajet',\n",
       "       'Sail UVA Petrol LT ABS', 'Verna Fluidic 1.6 VTVT SX',\n",
       "       'A4 2.0 TDI 177bhp Premium', 'Elantra SX',\n",
       "       'Scorpio VLX 4WD Airbag', 'KUV100 K8 D 6 STR', 'i10', 'i20 Active',\n",
       "       'Redi GO', 'Etios Liva', 'Accent', 'Verna', 'Fortuner',\n",
       "       'i10 Sportz', 'Spark LT 1.0 Airbag', 'Indigo eCS VX CR4 BS IV',\n",
       "       'Rapid Elegance 1.6 TDI CR MT', 'Vista Quadrajet VX',\n",
       "       'Suzuki Alto K10 VXi AT', 'Suzuki Zen LXi BS III',\n",
       "       'Suzuki Swift Dzire Tour LDi', 'City ZX EXi', 'Beat Diesel',\n",
       "       'Verna 1.4 VTVT', 'Suzuki  800 Std – Befo',\n",
       "       'Elite i20 Asta 1.4 CRDI', 'Suzuki Versa DX2 8 SEATER BSIII',\n",
       "       'Indigo LX TDI BS III', 'Vento Konekt Diesel Highline',\n",
       "       'Benz C Class 200 CDI Classic', 'Santro Xing GLS',\n",
       "       'Suzuki Omni Limited Edition', 'Sonata Transform 2.4 GDi MT',\n",
       "       'Jazz S MT', 'Grand i10 Sportz 1.2 Kappa VTVT',\n",
       "       'Suzuki Zen LXi BSII', 'Scorpio W Turbo 2.6DX 9 Seater',\n",
       "       'Suzuki Alto K10 VXi', 'Grand i10 Asta 1.2 Kappa VTVT',\n",
       "       'XUV500 W8', 'i20 Magna O 1.2', 'Duster 85 PS RxL Explore LE',\n",
       "       'Brio V MT', 'TUV300 T4 Plus', 'Ikon 1.3 CLXi NXt Finesse',\n",
       "       'Fortuner 3.0 4x4 MT', 'Manza ELAN Quadrajet',\n",
       "       'Benz A Class A 180 Sport Petrol', 'Indigo LS', 'i20 Magna 1.2',\n",
       "       'Vento Highline Plus 1.5 Diesel AT', 'Kwid RXT',\n",
       "       'Amaze 1.5 E i DTEC', 'Verna 1.6 EX VTVT', '5 Series 520d Sedan',\n",
       "       'Superb 1.8 TFSI AT', 'Q3 2.0 TDI quattro Premium',\n",
       "       'Bolero DI BSII', 'Suzuki Zen Estilo LXI Green CNG',\n",
       "       'Figo Duratorq Diesel Titanium 1.4', 'Suzuki Wagon R VXI BS IV',\n",
       "       'Logan Diesel 1.5 DLS', 'Nano GenX XMA', 'Figo Petrol LXI',\n",
       "       'i10 Magna 1.2 Kappa2', 'Corolla H2', 'Indigo CS eLS BS IV',\n",
       "       'Xcent Base 1.1 CRDi', 'Accent Executive Edition',\n",
       "       'Zest XE 75 PS Diesel', 'Suzuki Dzire LDI', 'Sumo Gold LX BS IV',\n",
       "       'Corolla Altis GL Petrol', 'Suzuki Eeco 7 STR',\n",
       "       'Fortuner 3.0 4x2 MT', 'XUV500 W6', 'Suzuki 800',\n",
       "       'Mobilio S i DTEC', 'Verna 1.6 CRDI E', 'Indica', 'Santro Xing',\n",
       "       'Suzuki Zen Estilo', 'Brio VX AT', 'Suzuki Wagon R Select Variant',\n",
       "       'Xcent S 1.2', 'Eon Magna Plus', 'Suzuki Ritz GENUS VXI',\n",
       "       'Grand i10 Magna AT 1.2 Kappa VTVT', 'Eon D Lite Plus',\n",
       "       'Suzuki Estilo VXi ABS BS IV', 'Suzuki Vitara Brezza LDi O',\n",
       "       'Innova 2.0 V', 'Scorpio Vlx BSIV', 'Lancer 1.8 LXi',\n",
       "       'Suzuki  800 AC', 'Suzuki Alto 800 LXI CNG O',\n",
       "       'Fiesta SXi 1.6 ABS', 'Suzuki Ritz VDi', 'Suzuki Estilo LX BS IV',\n",
       "       'A6 2.0 TDI Premium', 'Suzuki Alto', 'Suzuki Baleno Sigma 1.2',\n",
       "       'Suzuki Swift GLAM', 'Getz Prime 1.3 GVS', 'Santro',\n",
       "       'Getz Prime 1.3 GLX', 'Beat PS Diesel',\n",
       "       'EcoSport Trend 1.5 Ti VCT', 'Indica V2 DLG', 'X1 xDrive20d xLine',\n",
       "       'City 1.5 V AT', 'Cruze LTZ AT', 'Suzuki Swift Dzire VDi',\n",
       "       'XUV500 W10', 'Suzuki Alto K10 LXi CNG', 'Accent GLE',\n",
       "       'Motors One SUV', 'Spark 1.0 LT', 'Etios Liva GD',\n",
       "       'Duster 85PS Diesel RxL Optional with Nav', 'Enjoy',\n",
       "       '5 Series 530i', 'Cruze LTZ', 'Verna VGT CRDi SX ABS',\n",
       "       'Suzuki Omni', 'Suzuki Celerio VDi', 'Zest Quadrajet 1.3',\n",
       "       'Indigo CS eLX BS IV', 'i10 Era', 'Indigo eCS LX CR4 BS IV',\n",
       "       'Indigo Marina LS', 'Xcent SX 1.2', 'Nano LX Special Edition',\n",
       "       'Duster 110 PS RxZ Diesel', 'Suzuki Wagon R AX BSIV', 'Xylo E8',\n",
       "       'Manza Aqua Quadrajet', 'Venture EX 8 STR',\n",
       "       'Suzuki Swift Dzire Tour LXi', 'Suzuki Alto LX BSII',\n",
       "       'Octavia Classic 1.9 TDI MT', 'Suzuki Omni LPG BS IV',\n",
       "       'Sumo Gold EX BS IV', 'Verna 1.6 CRDI SX',\n",
       "       'Scorpio SLX 2.6 Turbo 8 Str', 'Elite i20 Sportz 1.2',\n",
       "       'Ikon 1.6 Nxt', 'Innova 2.5 V 7 STR', 'Sunny XL',\n",
       "       'Suzuki Swift VDi BS IV', 'Innova 2.0 G4', 'Suzuki Swift VDi ABS',\n",
       "       'Elite i20 Asta 1.2', 'Polo Trendline 1.5L D', 'Etios Liva Diesel',\n",
       "       'Suzuki Ciaz ZXi Plus RS', 'Elantra 1.8 S',\n",
       "       'EcoSport Trend 1.5L Ti VCT', 'XF 2.2 Diesel Luxury',\n",
       "       'Q5 2.0 TDI quattro Premium Plus', '3 Series 320d Sedan',\n",
       "       'Suzuki Swift ZXi 1.2 BS IV', 'X1 sDrive20d',\n",
       "       'Suzuki S Cross Sigma 1.3', 'Suzuki Ertiga LDi', 'City SV',\n",
       "       'Vento Comfortline Petrol', 'KUV100',\n",
       "       'Suzuki Swift Dzire Tour VDi', 'Scorpio 2.6 SLX',\n",
       "       'Suzuki Omni 8 STR BS III', 'Jetta Comfortline 1.9 TDI AT',\n",
       "       'S80 Summum D4', 'Corolla Altis VL AT Petrol',\n",
       "       'Pajero Sport 2.5 AT', 'Beat LT Petrol', 'X1',\n",
       "       'Benz C Class C 220 CDI Avantgarde', 'Vento Comfortline Diesel',\n",
       "       'Indigo CS GLS', 'City ZX GXi', 'Suzuki Wagon R Duo Lxi',\n",
       "       'Suzuki Zen LX BSII', 'Duster RxL Petrol', 'WR V S MT Petrol',\n",
       "       'Duster 110 PS RxL Diesel', 'Scorpio LX BS III',\n",
       "       'Suzuki SX4 Celebration Diesel', 'A3 Cabriolet 40 TFSI',\n",
       "       'Santro AE GLS Audio', 'Xylo D2 BS IV', 'Getz GLE',\n",
       "       'Santro Xing XL AT eRLX Euro III', 'Santro Xing XL eRLX Euro III',\n",
       "       'Indica V2 DLS BS III', 'City 1.5 E MT', 'Micra XL',\n",
       "       'City 1.5 S Inspire', 'Indica eV2 eXeta eGLX',\n",
       "       'Suzuki Omni E 8 STR BS IV', 'Verna 1.6 CRDI SX Plus AT',\n",
       "       'Tavera LS B3 10 Seats BSII',\n",
       "       'Motors Ambassador Classic Mark 4 – Befo',\n",
       "       'Fusion 1.4 TDCi Diesel', 'Linea Emotion 1.4 L T Jet Petrol',\n",
       "       'Ikon 1.3 Flair Josh 100', 'Indica V2 LS', 'Xylo D2', 'Corolla',\n",
       "       'Sumo Grande MKII GX', 'Polo Highline1.2L P', 'Tiago Revotron XZ',\n",
       "       'Indigo eCS', 'Xylo E8 BS IV', 'Sumo Gold FX BSIII', 'Creta',\n",
       "       'Bolt XM Petrol', 'Suzuki Ritz', 'Lodgy', 'i20 Asta',\n",
       "       'Suzuki Swift Select Variant', 'Indica V2 DLX BS III',\n",
       "       'Scorpio VLX 2.2 mHawk Airbag BSIV', 'Innova 2.5 E 8 STR',\n",
       "       'Go Plus', 'Indica V2', 'Santro Xing GL',\n",
       "       'Innova 2.5 Z Diesel 7 Seater', 'Logan', 'Suzuki 800 Std BS III',\n",
       "       'Sail 1.2 LS', 'Vento Highline Plus 1.5 Diesel', 'Manza',\n",
       "       'Etios G', 'Qualis', 'Quanto C4', 'Suzuki Swift Dzire',\n",
       "       'i20 Select Variant', 'City VX Petrol', 'Getz',\n",
       "       'Benz C Class 200 K MT', 'Fabia', 'Suzuki Alto 800 Select Variant',\n",
       "       'Suzuki Ritz VXI ABS', 'Indica V2 DLE BS III', 'Zest XM Diesel'],\n",
       "      dtype=object)"
      ]
     },
     "execution_count": 45,
     "metadata": {},
     "output_type": "execute_result"
    }
   ],
   "source": [
    "ds[\"name\"].unique()"
   ]
  },
  {
   "cell_type": "code",
   "execution_count": 47,
   "id": "0adf25aa-3b68-4102-8c2e-e55b86f5ca2c",
   "metadata": {},
   "outputs": [
    {
     "name": "stdout",
     "output_type": "stream",
     "text": [
      "<class 'pandas.core.frame.DataFrame'>\n",
      "Index: 751 entries, 0 to 889\n",
      "Data columns (total 6 columns):\n",
      " #   Column      Non-Null Count  Dtype  \n",
      "---  ------      --------------  -----  \n",
      " 0   name        751 non-null    object \n",
      " 1   company     751 non-null    object \n",
      " 2   year        751 non-null    int64  \n",
      " 3   Price       736 non-null    float64\n",
      " 4   kms_driven  751 non-null    int64  \n",
      " 5   fuel_type   751 non-null    object \n",
      "dtypes: float64(1), int64(2), object(3)\n",
      "memory usage: 57.2+ KB\n"
     ]
    }
   ],
   "source": [
    "ds.info()"
   ]
  },
  {
   "cell_type": "code",
   "execution_count": 49,
   "id": "bd50c393-2195-4309-8385-3e1eb2b1b507",
   "metadata": {},
   "outputs": [
    {
     "data": {
      "text/plain": [
       "[1995,\n",
       " 2000,\n",
       " 2001,\n",
       " 2002,\n",
       " 2003,\n",
       " 2004,\n",
       " 2005,\n",
       " 2006,\n",
       " 2007,\n",
       " 2008,\n",
       " 2009,\n",
       " 2010,\n",
       " 2011,\n",
       " 2012,\n",
       " 2013,\n",
       " 2014,\n",
       " 2015,\n",
       " 2016,\n",
       " 2017,\n",
       " 2018]"
      ]
     },
     "execution_count": 49,
     "metadata": {},
     "output_type": "execute_result"
    }
   ],
   "source": [
    "sorted(ds[\"year\"].unique())"
   ]
  },
  {
   "cell_type": "code",
   "execution_count": 51,
   "id": "fbb9949c-b2ad-41f1-888d-b6139b540526",
   "metadata": {},
   "outputs": [
    {
     "data": {
      "text/plain": [
       "[30000.0,\n",
       " 55000.0,\n",
       " 80000.0,\n",
       " nan,\n",
       " 32000.0,\n",
       " 35000.0,\n",
       " 35999.0,\n",
       " 39999.0,\n",
       " 40000.0,\n",
       " 42000.0,\n",
       " 45000.0,\n",
       " 48000.0,\n",
       " 50500.0,\n",
       " 51999.0,\n",
       " 53000.0,\n",
       " 57000.0,\n",
       " 59000.0,\n",
       " 60000.0,\n",
       " 65000.0,\n",
       " 68000.0,\n",
       " 69999.0,\n",
       " 70000.0,\n",
       " 71000.0,\n",
       " 72500.0,\n",
       " 75000.0,\n",
       " 85000.0,\n",
       " 88000.0,\n",
       " 90000.0,\n",
       " 90001.0,\n",
       " 95000.0,\n",
       " 98500.0,\n",
       " 99000.0,\n",
       " 99999.0,\n",
       " 100000.0,\n",
       " 105000.0,\n",
       " 110000.0,\n",
       " 114990.0,\n",
       " 115000.0,\n",
       " 120000.0,\n",
       " 123000.0,\n",
       " 125000.0,\n",
       " 130000.0,\n",
       " 135000.0,\n",
       " 140000.0,\n",
       " 145000.0,\n",
       " 149000.0,\n",
       " 150000.0,\n",
       " 155000.0,\n",
       " 155555.0,\n",
       " 158400.0,\n",
       " 159000.0,\n",
       " 159500.0,\n",
       " 160000.0,\n",
       " 162000.0,\n",
       " 165000.0,\n",
       " 168000.0,\n",
       " 169500.0,\n",
       " 169999.0,\n",
       " 170000.0,\n",
       " 174999.0,\n",
       " 175000.0,\n",
       " 178000.0,\n",
       " 179000.0,\n",
       " 179999.0,\n",
       " 180000.0,\n",
       " 182000.0,\n",
       " 185000.0,\n",
       " 188000.0,\n",
       " 189000.0,\n",
       " 189500.0,\n",
       " 189700.0,\n",
       " 190000.0,\n",
       " 195000.0,\n",
       " 199000.0,\n",
       " 199999.0,\n",
       " 200000.0,\n",
       " 205000.0,\n",
       " 209000.0,\n",
       " 210000.0,\n",
       " 215000.0,\n",
       " 220000.0,\n",
       " 224999.0,\n",
       " 225000.0,\n",
       " 230000.0,\n",
       " 235000.0,\n",
       " 239999.0,\n",
       " 240000.0,\n",
       " 244999.0,\n",
       " 245000.0,\n",
       " 249999.0,\n",
       " 250000.0,\n",
       " 251111.0,\n",
       " 255000.0,\n",
       " 260000.0,\n",
       " 265000.0,\n",
       " 269000.0,\n",
       " 270000.0,\n",
       " 274999.0,\n",
       " 275000.0,\n",
       " 278000.0,\n",
       " 280000.0,\n",
       " 284999.0,\n",
       " 285000.0,\n",
       " 289999.0,\n",
       " 290000.0,\n",
       " 295000.0,\n",
       " 299000.0,\n",
       " 299999.0,\n",
       " 300000.0,\n",
       " 310000.0,\n",
       " 311000.0,\n",
       " 315000.0,\n",
       " 320000.0,\n",
       " 324999.0,\n",
       " 325000.0,\n",
       " 329500.0,\n",
       " 330000.0,\n",
       " 335000.0,\n",
       " 340000.0,\n",
       " 344999.0,\n",
       " 345000.0,\n",
       " 349999.0,\n",
       " 350000.0,\n",
       " 351000.0,\n",
       " 355000.0,\n",
       " 360000.0,\n",
       " 365000.0,\n",
       " 370000.0,\n",
       " 372000.0,\n",
       " 374999.0,\n",
       " 375000.0,\n",
       " 380000.0,\n",
       " 385000.0,\n",
       " 389700.0,\n",
       " 390000.0,\n",
       " 395000.0,\n",
       " 399000.0,\n",
       " 399999.0,\n",
       " 400000.0,\n",
       " 401000.0,\n",
       " 401919.0,\n",
       " 405000.0,\n",
       " 410000.0,\n",
       " 415000.0,\n",
       " 419000.0,\n",
       " 424999.0,\n",
       " 425000.0,\n",
       " 430000.0,\n",
       " 435000.0,\n",
       " 444999.0,\n",
       " 448000.0,\n",
       " 448999.0,\n",
       " 449999.0,\n",
       " 450000.0,\n",
       " 465000.0,\n",
       " 470000.0,\n",
       " 474999.0,\n",
       " 475000.0,\n",
       " 480000.0,\n",
       " 485000.0,\n",
       " 488000.0,\n",
       " 489999.0,\n",
       " 490000.0,\n",
       " 495000.0,\n",
       " 498000.0,\n",
       " 499000.0,\n",
       " 499999.0,\n",
       " 500000.0,\n",
       " 500001.0,\n",
       " 501000.0,\n",
       " 519000.0,\n",
       " 520000.0,\n",
       " 524999.0,\n",
       " 525000.0,\n",
       " 530000.0,\n",
       " 535000.0,\n",
       " 540000.0,\n",
       " 544999.0,\n",
       " 548900.0,\n",
       " 549000.0,\n",
       " 549900.0,\n",
       " 549999.0,\n",
       " 550000.0,\n",
       " 560000.0,\n",
       " 565000.0,\n",
       " 569999.0,\n",
       " 570000.0,\n",
       " 574999.0,\n",
       " 575000.0,\n",
       " 580000.0,\n",
       " 584999.0,\n",
       " 590000.0,\n",
       " 599000.0,\n",
       " 599999.0,\n",
       " 600000.0,\n",
       " 610000.0,\n",
       " 615000.0,\n",
       " 635000.0,\n",
       " 644999.0,\n",
       " 649999.0,\n",
       " 650000.0,\n",
       " 689999.0,\n",
       " 690000.0,\n",
       " 699000.0,\n",
       " 699999.0,\n",
       " 701000.0,\n",
       " 715000.0,\n",
       " 725000.0,\n",
       " 730000.0,\n",
       " 749999.0,\n",
       " 750000.0,\n",
       " 790000.0,\n",
       " 795000.0,\n",
       " 800000.0,\n",
       " 830000.0,\n",
       " 849999.0,\n",
       " 855000.0,\n",
       " 860000.0,\n",
       " 865000.0,\n",
       " 895000.0,\n",
       " 899000.0,\n",
       " 900000.0,\n",
       " 940000.0,\n",
       " 944999.0,\n",
       " 950000.0,\n",
       " 970000.0,\n",
       " 984999.0,\n",
       " 1000000.0,\n",
       " 1025000.0,\n",
       " 1065000.0,\n",
       " 1074999.0,\n",
       " 1075000.0,\n",
       " 1130000.0,\n",
       " 1150000.0,\n",
       " 1225000.0,\n",
       " 1299000.0,\n",
       " 1350000.0,\n",
       " 1400000.0,\n",
       " 1475000.0,\n",
       " 1490000.0,\n",
       " 1499000.0,\n",
       " 1500000.0,\n",
       " 1510000.0,\n",
       " 1525000.0,\n",
       " 1540000.0,\n",
       " 1599000.0,\n",
       " 1600000.0,\n",
       " 1725000.0,\n",
       " 1850000.0,\n",
       " 1891111.0,\n",
       " 1900000.0,\n",
       " 2000000.0,\n",
       " 2100000.0,\n",
       " 2190000.0,\n",
       " 2390000.0,\n",
       " 3100000.0,\n",
       " 8500003.0]"
      ]
     },
     "execution_count": 51,
     "metadata": {},
     "output_type": "execute_result"
    }
   ],
   "source": [
    "sorted(ds[\"Price\"].unique())"
   ]
  },
  {
   "cell_type": "code",
   "execution_count": 53,
   "id": "709bbda2-88e9-478d-befa-0b352450f043",
   "metadata": {},
   "outputs": [
    {
     "data": {
      "text/plain": [
       "array([False,  True])"
      ]
     },
     "execution_count": 53,
     "metadata": {},
     "output_type": "execute_result"
    }
   ],
   "source": [
    "ds.duplicated().unique()"
   ]
  },
  {
   "cell_type": "code",
   "execution_count": 55,
   "id": "abd349f3-acbb-4caf-b4ea-de0dbd02b79c",
   "metadata": {},
   "outputs": [],
   "source": [
    "ds.drop_duplicates(inplace=True)"
   ]
  },
  {
   "cell_type": "code",
   "execution_count": 57,
   "id": "543378e3-d4fb-4a54-a8af-f19b21f825f4",
   "metadata": {},
   "outputs": [
    {
     "name": "stdout",
     "output_type": "stream",
     "text": [
      "<class 'pandas.core.frame.DataFrame'>\n",
      "Index: 666 entries, 0 to 889\n",
      "Data columns (total 6 columns):\n",
      " #   Column      Non-Null Count  Dtype  \n",
      "---  ------      --------------  -----  \n",
      " 0   name        666 non-null    object \n",
      " 1   company     666 non-null    object \n",
      " 2   year        666 non-null    int64  \n",
      " 3   Price       651 non-null    float64\n",
      " 4   kms_driven  666 non-null    int64  \n",
      " 5   fuel_type   666 non-null    object \n",
      "dtypes: float64(1), int64(2), object(3)\n",
      "memory usage: 36.4+ KB\n"
     ]
    }
   ],
   "source": [
    "ds.info()"
   ]
  },
  {
   "cell_type": "code",
   "execution_count": 67,
   "id": "a7b7e541-ecb9-4739-8026-ba6bf2b4bdb7",
   "metadata": {},
   "outputs": [
    {
     "data": {
      "text/plain": [
       "0"
      ]
     },
     "execution_count": 67,
     "metadata": {},
     "output_type": "execute_result"
    }
   ],
   "source": [
    "ds[\"Price\"].isnull().sum()"
   ]
  },
  {
   "cell_type": "code",
   "execution_count": 65,
   "id": "1283b3e2-5326-4cd2-8299-adb3d28ac048",
   "metadata": {},
   "outputs": [],
   "source": [
    "ds = ds.dropna(subset = [\"Price\"])"
   ]
  },
  {
   "cell_type": "code",
   "execution_count": 1,
   "id": "6557efdf-5a59-4f2a-8874-ef99531d0ca4",
   "metadata": {},
   "outputs": [
    {
     "ename": "NameError",
     "evalue": "name 'ds' is not defined",
     "output_type": "error",
     "traceback": [
      "\u001b[1;31m---------------------------------------------------------------------------\u001b[0m",
      "\u001b[1;31mNameError\u001b[0m                                 Traceback (most recent call last)",
      "Cell \u001b[1;32mIn[1], line 1\u001b[0m\n\u001b[1;32m----> 1\u001b[0m ds\u001b[38;5;241m.\u001b[39mto_csv(\u001b[38;5;124m\"\u001b[39m\u001b[38;5;124mnew_cleaned_data.csv\u001b[39m\u001b[38;5;124m\"\u001b[39m)\n",
      "\u001b[1;31mNameError\u001b[0m: name 'ds' is not defined"
     ]
    }
   ],
   "source": [
    "ds.to_csv(\"new_cleaned_data.csv\")"
   ]
  },
  {
   "cell_type": "code",
   "execution_count": null,
   "id": "b1a4769f-fe3e-4a56-ad65-cc9f41a6fc7d",
   "metadata": {},
   "outputs": [],
   "source": []
  }
 ],
 "metadata": {
  "kernelspec": {
   "display_name": "Python [conda env:base] *",
   "language": "python",
   "name": "conda-base-py"
  },
  "language_info": {
   "codemirror_mode": {
    "name": "ipython",
    "version": 3
   },
   "file_extension": ".py",
   "mimetype": "text/x-python",
   "name": "python",
   "nbconvert_exporter": "python",
   "pygments_lexer": "ipython3",
   "version": "3.12.7"
  }
 },
 "nbformat": 4,
 "nbformat_minor": 5
}
