{
 "cells": [
  {
   "cell_type": "code",
   "execution_count": 1,
   "id": "493dc412-888b-4358-9cd9-d0db98aac2b1",
   "metadata": {},
   "outputs": [],
   "source": [
    "#IMPORT LIABRIES\n",
    "\n",
    "import numpy as np\n",
    "import pandas as pd\n",
    "import matplotlib.pyplot as plt\n",
    "import seaborn as sns"
   ]
  },
  {
   "cell_type": "code",
   "execution_count": 19,
   "id": "c44b5739-9fe7-4599-b5c1-350b419b5090",
   "metadata": {},
   "outputs": [
    {
     "data": {
      "text/html": [
       "<div>\n",
       "<style scoped>\n",
       "    .dataframe tbody tr th:only-of-type {\n",
       "        vertical-align: middle;\n",
       "    }\n",
       "\n",
       "    .dataframe tbody tr th {\n",
       "        vertical-align: top;\n",
       "    }\n",
       "\n",
       "    .dataframe thead th {\n",
       "        text-align: right;\n",
       "    }\n",
       "</style>\n",
       "<table border=\"1\" class=\"dataframe\">\n",
       "  <thead>\n",
       "    <tr style=\"text-align: right;\">\n",
       "      <th></th>\n",
       "      <th>Name</th>\n",
       "      <th>Age</th>\n",
       "      <th>Gender</th>\n",
       "      <th>Email</th>\n",
       "      <th>Join_Date</th>\n",
       "      <th>Salary</th>\n",
       "      <th>Department</th>\n",
       "    </tr>\n",
       "  </thead>\n",
       "  <tbody>\n",
       "    <tr>\n",
       "      <th>0</th>\n",
       "      <td>Alice</td>\n",
       "      <td>NaN</td>\n",
       "      <td>NaN</td>\n",
       "      <td>user0@example.com</td>\n",
       "      <td>2021-05-21</td>\n",
       "      <td>NaN</td>\n",
       "      <td>Admin</td>\n",
       "    </tr>\n",
       "    <tr>\n",
       "      <th>1</th>\n",
       "      <td>Bob</td>\n",
       "      <td>40</td>\n",
       "      <td>M</td>\n",
       "      <td>user1@example.com</td>\n",
       "      <td>NaN</td>\n",
       "      <td>50000</td>\n",
       "      <td>Engineering</td>\n",
       "    </tr>\n",
       "    <tr>\n",
       "      <th>2</th>\n",
       "      <td>Charlie</td>\n",
       "      <td>unknown</td>\n",
       "      <td>Male</td>\n",
       "      <td>user2@example.com</td>\n",
       "      <td>2020/01/01</td>\n",
       "      <td>50000</td>\n",
       "      <td>HR</td>\n",
       "    </tr>\n",
       "    <tr>\n",
       "      <th>3</th>\n",
       "      <td>David</td>\n",
       "      <td>NaN</td>\n",
       "      <td>NaN</td>\n",
       "      <td>user3@example.com</td>\n",
       "      <td>2021-05-21</td>\n",
       "      <td>70000</td>\n",
       "      <td>Admin</td>\n",
       "    </tr>\n",
       "    <tr>\n",
       "      <th>4</th>\n",
       "      <td>Eva</td>\n",
       "      <td>35</td>\n",
       "      <td>Other</td>\n",
       "      <td>user4@example.com</td>\n",
       "      <td>July 4, 2020</td>\n",
       "      <td>70000</td>\n",
       "      <td>Engineering</td>\n",
       "    </tr>\n",
       "    <tr>\n",
       "      <th>...</th>\n",
       "      <td>...</td>\n",
       "      <td>...</td>\n",
       "      <td>...</td>\n",
       "      <td>...</td>\n",
       "      <td>...</td>\n",
       "      <td>...</td>\n",
       "      <td>...</td>\n",
       "    </tr>\n",
       "    <tr>\n",
       "      <th>100</th>\n",
       "      <td>Alice</td>\n",
       "      <td>NaN</td>\n",
       "      <td>NaN</td>\n",
       "      <td>user0@example.com</td>\n",
       "      <td>2021-05-21</td>\n",
       "      <td>NaN</td>\n",
       "      <td>Admin</td>\n",
       "    </tr>\n",
       "    <tr>\n",
       "      <th>101</th>\n",
       "      <td>Bob</td>\n",
       "      <td>40</td>\n",
       "      <td>M</td>\n",
       "      <td>user1@example.com</td>\n",
       "      <td>NaN</td>\n",
       "      <td>50000</td>\n",
       "      <td>Engineering</td>\n",
       "    </tr>\n",
       "    <tr>\n",
       "      <th>102</th>\n",
       "      <td>Charlie</td>\n",
       "      <td>unknown</td>\n",
       "      <td>Male</td>\n",
       "      <td>user2@example.com</td>\n",
       "      <td>2020/01/01</td>\n",
       "      <td>50000</td>\n",
       "      <td>HR</td>\n",
       "    </tr>\n",
       "    <tr>\n",
       "      <th>103</th>\n",
       "      <td>David</td>\n",
       "      <td>NaN</td>\n",
       "      <td>NaN</td>\n",
       "      <td>user3@example.com</td>\n",
       "      <td>2021-05-21</td>\n",
       "      <td>70000</td>\n",
       "      <td>Admin</td>\n",
       "    </tr>\n",
       "    <tr>\n",
       "      <th>104</th>\n",
       "      <td>Eva</td>\n",
       "      <td>35</td>\n",
       "      <td>Other</td>\n",
       "      <td>user4@example.com</td>\n",
       "      <td>July 4, 2020</td>\n",
       "      <td>70000</td>\n",
       "      <td>Engineering</td>\n",
       "    </tr>\n",
       "  </tbody>\n",
       "</table>\n",
       "<p>105 rows × 7 columns</p>\n",
       "</div>"
      ],
      "text/plain": [
       "        Name      Age Gender              Email     Join_Date Salary  \\\n",
       "0      Alice      NaN    NaN  user0@example.com    2021-05-21    NaN   \n",
       "1        Bob       40      M  user1@example.com           NaN  50000   \n",
       "2    Charlie  unknown   Male  user2@example.com    2020/01/01  50000   \n",
       "3      David      NaN    NaN  user3@example.com    2021-05-21  70000   \n",
       "4        Eva       35  Other  user4@example.com  July 4, 2020  70000   \n",
       "..       ...      ...    ...                ...           ...    ...   \n",
       "100    Alice      NaN    NaN  user0@example.com    2021-05-21    NaN   \n",
       "101      Bob       40      M  user1@example.com           NaN  50000   \n",
       "102  Charlie  unknown   Male  user2@example.com    2020/01/01  50000   \n",
       "103    David      NaN    NaN  user3@example.com    2021-05-21  70000   \n",
       "104      Eva       35  Other  user4@example.com  July 4, 2020  70000   \n",
       "\n",
       "      Department  \n",
       "0          Admin  \n",
       "1    Engineering  \n",
       "2             HR  \n",
       "3          Admin  \n",
       "4    Engineering  \n",
       "..           ...  \n",
       "100        Admin  \n",
       "101  Engineering  \n",
       "102           HR  \n",
       "103        Admin  \n",
       "104  Engineering  \n",
       "\n",
       "[105 rows x 7 columns]"
      ]
     },
     "execution_count": 19,
     "metadata": {},
     "output_type": "execute_result"
    }
   ],
   "source": [
    "#IMPORT DATASET\n",
    "\n",
    "ds=pd.read_csv(\"raw_messy_dataset.csv\")\n",
    "ds"
   ]
  },
  {
   "cell_type": "code",
   "execution_count": null,
   "id": "d24a5d2c-878a-45a5-9924-22fe713b9db4",
   "metadata": {},
   "outputs": [],
   "source": []
  },
  {
   "cell_type": "code",
   "execution_count": 3,
   "id": "8260ad01-7bb2-495e-a17d-dc92d1acb939",
   "metadata": {},
   "outputs": [
    {
     "data": {
      "text/html": [
       "<div>\n",
       "<style scoped>\n",
       "    .dataframe tbody tr th:only-of-type {\n",
       "        vertical-align: middle;\n",
       "    }\n",
       "\n",
       "    .dataframe tbody tr th {\n",
       "        vertical-align: top;\n",
       "    }\n",
       "\n",
       "    .dataframe thead th {\n",
       "        text-align: right;\n",
       "    }\n",
       "</style>\n",
       "<table border=\"1\" class=\"dataframe\">\n",
       "  <thead>\n",
       "    <tr style=\"text-align: right;\">\n",
       "      <th></th>\n",
       "      <th>Name</th>\n",
       "      <th>Age</th>\n",
       "      <th>Gender</th>\n",
       "      <th>Email</th>\n",
       "      <th>Join_Date</th>\n",
       "      <th>Salary</th>\n",
       "      <th>Department</th>\n",
       "    </tr>\n",
       "  </thead>\n",
       "  <tbody>\n",
       "    <tr>\n",
       "      <th>0</th>\n",
       "      <td>Alice</td>\n",
       "      <td>NaN</td>\n",
       "      <td>NaN</td>\n",
       "      <td>user0@example.com</td>\n",
       "      <td>2021-05-21</td>\n",
       "      <td>NaN</td>\n",
       "      <td>Admin</td>\n",
       "    </tr>\n",
       "    <tr>\n",
       "      <th>1</th>\n",
       "      <td>Bob</td>\n",
       "      <td>40</td>\n",
       "      <td>M</td>\n",
       "      <td>user1@example.com</td>\n",
       "      <td>NaN</td>\n",
       "      <td>50000</td>\n",
       "      <td>Engineering</td>\n",
       "    </tr>\n",
       "    <tr>\n",
       "      <th>2</th>\n",
       "      <td>Charlie</td>\n",
       "      <td>unknown</td>\n",
       "      <td>Male</td>\n",
       "      <td>user2@example.com</td>\n",
       "      <td>2020/01/01</td>\n",
       "      <td>50000</td>\n",
       "      <td>HR</td>\n",
       "    </tr>\n",
       "    <tr>\n",
       "      <th>3</th>\n",
       "      <td>David</td>\n",
       "      <td>NaN</td>\n",
       "      <td>NaN</td>\n",
       "      <td>user3@example.com</td>\n",
       "      <td>2021-05-21</td>\n",
       "      <td>70000</td>\n",
       "      <td>Admin</td>\n",
       "    </tr>\n",
       "    <tr>\n",
       "      <th>4</th>\n",
       "      <td>Eva</td>\n",
       "      <td>35</td>\n",
       "      <td>Other</td>\n",
       "      <td>user4@example.com</td>\n",
       "      <td>July 4, 2020</td>\n",
       "      <td>70000</td>\n",
       "      <td>Engineering</td>\n",
       "    </tr>\n",
       "    <tr>\n",
       "      <th>5</th>\n",
       "      <td>Frank</td>\n",
       "      <td>unknown</td>\n",
       "      <td>Other</td>\n",
       "      <td>user5@example.com</td>\n",
       "      <td>NaN</td>\n",
       "      <td>70000</td>\n",
       "      <td>Admin</td>\n",
       "    </tr>\n",
       "    <tr>\n",
       "      <th>6</th>\n",
       "      <td>Grace</td>\n",
       "      <td>unknown</td>\n",
       "      <td>Female</td>\n",
       "      <td>user6@example.com</td>\n",
       "      <td>July 4, 2020</td>\n",
       "      <td>80000</td>\n",
       "      <td>Engineering</td>\n",
       "    </tr>\n",
       "    <tr>\n",
       "      <th>7</th>\n",
       "      <td>Hannah</td>\n",
       "      <td>NaN</td>\n",
       "      <td>Other</td>\n",
       "      <td>user7@example.com</td>\n",
       "      <td>2021-05-21</td>\n",
       "      <td>NaN</td>\n",
       "      <td>HR</td>\n",
       "    </tr>\n",
       "    <tr>\n",
       "      <th>8</th>\n",
       "      <td>Ivy</td>\n",
       "      <td>30</td>\n",
       "      <td>Female</td>\n",
       "      <td>user8@example.com</td>\n",
       "      <td>NaN</td>\n",
       "      <td>50000</td>\n",
       "      <td>Engineering</td>\n",
       "    </tr>\n",
       "    <tr>\n",
       "      <th>9</th>\n",
       "      <td>Jack</td>\n",
       "      <td>35</td>\n",
       "      <td>Male</td>\n",
       "      <td>user9@example.com</td>\n",
       "      <td>2020/01/01</td>\n",
       "      <td>80000</td>\n",
       "      <td>Engineering</td>\n",
       "    </tr>\n",
       "  </tbody>\n",
       "</table>\n",
       "</div>"
      ],
      "text/plain": [
       "      Name      Age  Gender              Email     Join_Date Salary  \\\n",
       "0    Alice      NaN     NaN  user0@example.com    2021-05-21    NaN   \n",
       "1      Bob       40       M  user1@example.com           NaN  50000   \n",
       "2  Charlie  unknown    Male  user2@example.com    2020/01/01  50000   \n",
       "3    David      NaN     NaN  user3@example.com    2021-05-21  70000   \n",
       "4      Eva       35   Other  user4@example.com  July 4, 2020  70000   \n",
       "5    Frank  unknown   Other  user5@example.com           NaN  70000   \n",
       "6    Grace  unknown  Female  user6@example.com  July 4, 2020  80000   \n",
       "7   Hannah      NaN   Other  user7@example.com    2021-05-21    NaN   \n",
       "8      Ivy       30  Female  user8@example.com           NaN  50000   \n",
       "9     Jack       35    Male  user9@example.com    2020/01/01  80000   \n",
       "\n",
       "    Department  \n",
       "0        Admin  \n",
       "1  Engineering  \n",
       "2           HR  \n",
       "3        Admin  \n",
       "4  Engineering  \n",
       "5        Admin  \n",
       "6  Engineering  \n",
       "7           HR  \n",
       "8  Engineering  \n",
       "9  Engineering  "
      ]
     },
     "execution_count": 3,
     "metadata": {},
     "output_type": "execute_result"
    }
   ],
   "source": [
    "ds=pd.read_csv(\"raw_messy_dataset.csv\")\n",
    "ds.head(10)"
   ]
  },
  {
   "cell_type": "code",
   "execution_count": 6,
   "id": "bcbada56-792c-4a55-a7e5-178a64d8e531",
   "metadata": {},
   "outputs": [
    {
     "name": "stdout",
     "output_type": "stream",
     "text": [
      "<class 'pandas.core.frame.DataFrame'>\n",
      "RangeIndex: 105 entries, 0 to 104\n",
      "Data columns (total 7 columns):\n",
      " #   Column      Non-Null Count  Dtype \n",
      "---  ------      --------------  ----- \n",
      " 0   Name        105 non-null    object\n",
      " 1   Age         72 non-null     object\n",
      " 2   Gender      89 non-null     object\n",
      " 3   Email       95 non-null     object\n",
      " 4   Join_Date   70 non-null     object\n",
      " 5   Salary      78 non-null     object\n",
      " 6   Department  89 non-null     object\n",
      "dtypes: object(7)\n",
      "memory usage: 5.9+ KB\n"
     ]
    }
   ],
   "source": [
    "ds.info()"
   ]
  },
  {
   "cell_type": "code",
   "execution_count": null,
   "id": "c6502f12-48a6-4665-bc70-1aef412ff3b7",
   "metadata": {},
   "outputs": [],
   "source": []
  },
  {
   "cell_type": "code",
   "execution_count": 5,
   "id": "d00a093c-bfa6-4545-8c1b-81bd2489c7e3",
   "metadata": {},
   "outputs": [
    {
     "data": {
      "text/html": [
       "<div>\n",
       "<style scoped>\n",
       "    .dataframe tbody tr th:only-of-type {\n",
       "        vertical-align: middle;\n",
       "    }\n",
       "\n",
       "    .dataframe tbody tr th {\n",
       "        vertical-align: top;\n",
       "    }\n",
       "\n",
       "    .dataframe thead th {\n",
       "        text-align: right;\n",
       "    }\n",
       "</style>\n",
       "<table border=\"1\" class=\"dataframe\">\n",
       "  <thead>\n",
       "    <tr style=\"text-align: right;\">\n",
       "      <th></th>\n",
       "      <th>Name</th>\n",
       "      <th>Age</th>\n",
       "      <th>Gender</th>\n",
       "      <th>Email</th>\n",
       "      <th>Join_Date</th>\n",
       "      <th>Salary</th>\n",
       "      <th>Department</th>\n",
       "    </tr>\n",
       "  </thead>\n",
       "  <tbody>\n",
       "    <tr>\n",
       "      <th>count</th>\n",
       "      <td>105</td>\n",
       "      <td>72</td>\n",
       "      <td>89</td>\n",
       "      <td>95</td>\n",
       "      <td>70</td>\n",
       "      <td>78</td>\n",
       "      <td>89</td>\n",
       "    </tr>\n",
       "    <tr>\n",
       "      <th>unique</th>\n",
       "      <td>10</td>\n",
       "      <td>5</td>\n",
       "      <td>5</td>\n",
       "      <td>90</td>\n",
       "      <td>4</td>\n",
       "      <td>5</td>\n",
       "      <td>5</td>\n",
       "    </tr>\n",
       "    <tr>\n",
       "      <th>top</th>\n",
       "      <td>Alice</td>\n",
       "      <td>40</td>\n",
       "      <td>Male</td>\n",
       "      <td>user0@example.com</td>\n",
       "      <td>2021-05-21</td>\n",
       "      <td>50000</td>\n",
       "      <td>Engineering</td>\n",
       "    </tr>\n",
       "    <tr>\n",
       "      <th>freq</th>\n",
       "      <td>11</td>\n",
       "      <td>22</td>\n",
       "      <td>22</td>\n",
       "      <td>2</td>\n",
       "      <td>26</td>\n",
       "      <td>22</td>\n",
       "      <td>26</td>\n",
       "    </tr>\n",
       "  </tbody>\n",
       "</table>\n",
       "</div>"
      ],
      "text/plain": [
       "         Name Age Gender              Email   Join_Date Salary   Department\n",
       "count     105  72     89                 95          70     78           89\n",
       "unique     10   5      5                 90           4      5            5\n",
       "top     Alice  40   Male  user0@example.com  2021-05-21  50000  Engineering\n",
       "freq       11  22     22                  2          26     22           26"
      ]
     },
     "execution_count": 5,
     "metadata": {},
     "output_type": "execute_result"
    }
   ],
   "source": [
    "ds.describe()"
   ]
  },
  {
   "cell_type": "code",
   "execution_count": 7,
   "id": "75dd3981-64a7-453d-aa01-961df4b2e838",
   "metadata": {},
   "outputs": [
    {
     "name": "stdout",
     "output_type": "stream",
     "text": [
      "<class 'pandas.core.frame.DataFrame'>\n",
      "RangeIndex: 105 entries, 0 to 104\n",
      "Data columns (total 7 columns):\n",
      " #   Column      Non-Null Count  Dtype \n",
      "---  ------      --------------  ----- \n",
      " 0   Name        105 non-null    object\n",
      " 1   Age         72 non-null     object\n",
      " 2   Gender      89 non-null     object\n",
      " 3   Email       95 non-null     object\n",
      " 4   Join_Date   70 non-null     object\n",
      " 5   Salary      78 non-null     object\n",
      " 6   Department  89 non-null     object\n",
      "dtypes: object(7)\n",
      "memory usage: 5.9+ KB\n"
     ]
    }
   ],
   "source": [
    "ds.info()"
   ]
  },
  {
   "cell_type": "code",
   "execution_count": 8,
   "id": "67e65339-6e4a-459f-912b-39b5dd119ef9",
   "metadata": {},
   "outputs": [
    {
     "data": {
      "text/plain": [
       "5"
      ]
     },
     "execution_count": 8,
     "metadata": {},
     "output_type": "execute_result"
    }
   ],
   "source": [
    "#SEARCHING FOR DUPLICATES\n",
    "\n",
    "ds.duplicated().sum()     #for count"
   ]
  },
  {
   "cell_type": "code",
   "execution_count": 9,
   "id": "f3910610-917e-4ec2-ae9e-e1792856d47f",
   "metadata": {},
   "outputs": [],
   "source": [
    "#REMOVE DUPLICATES\n",
    "\n",
    "ds.drop_duplicates(inplace=True)"
   ]
  },
  {
   "cell_type": "code",
   "execution_count": 10,
   "id": "c9c35ad0-f31a-428b-a9cb-9f79bd67e6b8",
   "metadata": {},
   "outputs": [
    {
     "name": "stdout",
     "output_type": "stream",
     "text": [
      "<class 'pandas.core.frame.DataFrame'>\n",
      "Index: 100 entries, 0 to 99\n",
      "Data columns (total 7 columns):\n",
      " #   Column      Non-Null Count  Dtype \n",
      "---  ------      --------------  ----- \n",
      " 0   Name        100 non-null    object\n",
      " 1   Age         69 non-null     object\n",
      " 2   Gender      86 non-null     object\n",
      " 3   Email       90 non-null     object\n",
      " 4   Join_Date   66 non-null     object\n",
      " 5   Salary      74 non-null     object\n",
      " 6   Department  84 non-null     object\n",
      "dtypes: object(7)\n",
      "memory usage: 6.2+ KB\n"
     ]
    }
   ],
   "source": [
    "ds.info()"
   ]
  },
  {
   "cell_type": "code",
   "execution_count": 11,
   "id": "4238df7e-0108-46e3-a491-b252e5537682",
   "metadata": {},
   "outputs": [
    {
     "data": {
      "text/plain": [
       "Index(['Name', 'Age', 'Gender', 'Email', 'Join_Date', 'Salary', 'Department'], dtype='object')"
      ]
     },
     "execution_count": 11,
     "metadata": {},
     "output_type": "execute_result"
    }
   ],
   "source": [
    "#TO GET HEADEERS OF COLUMN\n",
    "\n",
    "ds.columns"
   ]
  },
  {
   "cell_type": "code",
   "execution_count": 12,
   "id": "0c2b2fcf-7d0d-41b2-853e-80639f919671",
   "metadata": {},
   "outputs": [],
   "source": [
    "#HANDLING AGE\n",
    "\n",
    "ds[\"Age\"]=pd.to_numeric(ds[\"Age\"],errors='coerce')"
   ]
  },
  {
   "cell_type": "code",
   "execution_count": 13,
   "id": "ba960f5c-79b9-4290-8396-88f95cc5926f",
   "metadata": {},
   "outputs": [
    {
     "data": {
      "text/plain": [
       "array([nan, 40., 35., 30., 25.])"
      ]
     },
     "execution_count": 13,
     "metadata": {},
     "output_type": "execute_result"
    }
   ],
   "source": [
    "ds[\"Age\"].unique()"
   ]
  },
  {
   "cell_type": "code",
   "execution_count": null,
   "id": "7aa0ddf9-22aa-4dc0-b18f-d79b0bbe9c05",
   "metadata": {},
   "outputs": [],
   "source": []
  },
  {
   "cell_type": "code",
   "execution_count": 14,
   "id": "de16ae36-ae9c-4247-81b3-35d5eaf1d2be",
   "metadata": {},
   "outputs": [
    {
     "data": {
      "text/plain": [
       "35.0"
      ]
     },
     "execution_count": 14,
     "metadata": {},
     "output_type": "execute_result"
    }
   ],
   "source": [
    "#TO FILL MISSING VALUE\n",
    "\n",
    "x=ds[\"Age\"].median()\n",
    "x"
   ]
  },
  {
   "cell_type": "code",
   "execution_count": 15,
   "id": "5842e78a-3397-4fff-aef1-2b557ffd6a33",
   "metadata": {},
   "outputs": [
    {
     "name": "stderr",
     "output_type": "stream",
     "text": [
      "C:\\Users\\ravi4\\AppData\\Local\\Temp\\ipykernel_35240\\4230202996.py:2: FutureWarning: A value is trying to be set on a copy of a DataFrame or Series through chained assignment using an inplace method.\n",
      "The behavior will change in pandas 3.0. This inplace method will never work because the intermediate object on which we are setting values always behaves as a copy.\n",
      "\n",
      "For example, when doing 'df[col].method(value, inplace=True)', try using 'df.method({col: value}, inplace=True)' or df[col] = df[col].method(value) instead, to perform the operation inplace on the original object.\n",
      "\n",
      "\n",
      "  ds[\"Age\"].fillna(x,inplace=True)\n"
     ]
    }
   ],
   "source": [
    "x=ds[\"Age\"].median()\n",
    "ds[\"Age\"].fillna(x,inplace=True)"
   ]
  },
  {
   "cell_type": "code",
   "execution_count": null,
   "id": "8a89cb63-ea5f-4606-aa7f-2f20e1c24e63",
   "metadata": {},
   "outputs": [],
   "source": []
  },
  {
   "cell_type": "code",
   "execution_count": 16,
   "id": "04dc9c2d-75c1-4a08-a492-342c44f564be",
   "metadata": {},
   "outputs": [
    {
     "data": {
      "text/plain": [
       "array([nan, 'M', 'Male', 'Other', 'Female', 'F'], dtype=object)"
      ]
     },
     "execution_count": 16,
     "metadata": {},
     "output_type": "execute_result"
    }
   ],
   "source": [
    "#HANDLING GENDER\n",
    "\n",
    "ds[\"Gender\"].unique()"
   ]
  },
  {
   "cell_type": "code",
   "execution_count": 17,
   "id": "89614d35-a2c1-4763-abdc-1cd0d1b278aa",
   "metadata": {},
   "outputs": [],
   "source": [
    "#STANDERDIZED GENDER\n",
    "\n",
    "ds[\"Gender\"]=ds[\"Gender\"].replace({\n",
    "    'm':\"male\",'f':\"famale\",\"\":\"none\"\n",
    "})"
   ]
  },
  {
   "cell_type": "code",
   "execution_count": 18,
   "id": "a009f10b-01d3-4794-bf9c-8ae9482eaf04",
   "metadata": {},
   "outputs": [
    {
     "name": "stdout",
     "output_type": "stream",
     "text": [
      "<class 'pandas.core.frame.DataFrame'>\n",
      "Index: 100 entries, 0 to 99\n",
      "Data columns (total 7 columns):\n",
      " #   Column      Non-Null Count  Dtype  \n",
      "---  ------      --------------  -----  \n",
      " 0   Name        100 non-null    object \n",
      " 1   Age         100 non-null    float64\n",
      " 2   Gender      86 non-null     object \n",
      " 3   Email       90 non-null     object \n",
      " 4   Join_Date   66 non-null     object \n",
      " 5   Salary      74 non-null     object \n",
      " 6   Department  84 non-null     object \n",
      "dtypes: float64(1), object(6)\n",
      "memory usage: 6.2+ KB\n"
     ]
    }
   ],
   "source": []
  },
  {
   "cell_type": "code",
   "execution_count": null,
   "id": "6b1006b2-0d8d-459f-8de6-9572acefcf07",
   "metadata": {},
   "outputs": [],
   "source": []
  },
  {
   "cell_type": "code",
   "execution_count": 21,
   "id": "871c9fc6-fd75-4f38-acf9-e094b86835be",
   "metadata": {},
   "outputs": [
    {
     "name": "stdout",
     "output_type": "stream",
     "text": [
      "        Name      Age  Gender               Email     Join_Date   Salary   Department\n",
      "0      Alice      NaN     NaN   user0@example.com    2021-05-21      NaN        Admin\n",
      "1        Bob       40       M   user1@example.com           NaN    50000  Engineering\n",
      "2    Charlie  unknown    Male   user2@example.com    2020/01/01    50000           HR\n",
      "3      David      NaN     NaN   user3@example.com    2021-05-21    70000        Admin\n",
      "4        Eva       35   Other   user4@example.com  July 4, 2020    70000  Engineering\n",
      "5      Frank  unknown   Other   user5@example.com           NaN    70000        Admin\n",
      "6      Grace  unknown  Female   user6@example.com  July 4, 2020    80000  Engineering\n",
      "7     Hannah      NaN   Other   user7@example.com    2021-05-21      NaN           HR\n",
      "8        Ivy       30  Female   user8@example.com           NaN    50000  Engineering\n",
      "9       Jack       35    Male   user9@example.com    2020/01/01    80000  Engineering\n",
      "10     Alice      NaN       M  user10@example.com    2021-05-21    70000  Engineering\n",
      "11       Bob       35       M  user11@example.com  July 4, 2020    50000        Sales\n",
      "12   Charlie       35       M  user12@example.com    22-06-2022    80000        Sales\n",
      "13     David  unknown   Other  user13@example.com           NaN      NaN        Sales\n",
      "14       Eva       40    Male  user14@example.com  July 4, 2020    80000           HR\n",
      "15     Frank       35   Other  user15@example.com           NaN      NaN        Admin\n",
      "16     Grace      NaN   Other  user16@example.com    2021-05-21    70000          NaN\n",
      "17    Hannah  unknown    Male  user17@example.com           NaN      NaN  Engineering\n",
      "18       Ivy       30    Male  user18@example.com    2021-05-21    50000  Engineering\n",
      "19      Jack       40    Male  user19@example.com           NaN    70000           HR\n",
      "20     Alice      NaN    Male  user20@example.com    2021-05-21    50000  Engineering\n",
      "21       Bob      NaN       M  user21@example.com    22-06-2022  unknown        Sales\n",
      "22   Charlie       30       F  user22@example.com           NaN    60000          NaN\n",
      "23     David       40       F  user23@example.com           NaN      NaN    Marketing\n",
      "24       Eva  unknown    Male  user24@example.com           NaN    60000  Engineering\n",
      "25     Frank       25       F  user25@example.com    22-06-2022    60000        Sales\n",
      "26     Grace       40       F  user26@example.com  July 4, 2020      NaN    Marketing\n",
      "27    Hannah       30    Male  user27@example.com    2021-05-21    70000          NaN\n",
      "28       Ivy      NaN       F  user28@example.com    2020/01/01  unknown    Marketing\n",
      "29      Jack  unknown   Other  user29@example.com    2021-05-21    50000        Sales\n",
      "30     Alice       40  Female  user30@example.com    2021-05-21    80000        Admin\n",
      "31       Bob       25  Female  user31@example.com  July 4, 2020    50000        Admin\n",
      "32   Charlie       25    Male  user32@example.com    2021-05-21    80000    Marketing\n",
      "33     David       35       M  user33@example.com    22-06-2022    50000           HR\n",
      "34       Eva       35    Male  user34@example.com    22-06-2022      NaN    Marketing\n",
      "35     Frank      NaN       M  user35@example.com           NaN  unknown  Engineering\n",
      "36     Grace       30  Female  user36@example.com           NaN    80000  Engineering\n",
      "37    Hannah       40    Male  user37@example.com    2020/01/01      NaN        Admin\n",
      "38       Ivy       40     NaN  user38@example.com    2021-05-21    70000           HR\n",
      "39      Jack      NaN   Other  user39@example.com    2021-05-21    50000        Sales\n",
      "40     Alice      NaN       F  user40@example.com  July 4, 2020    50000  Engineering\n",
      "41       Bob      NaN       M  user41@example.com           NaN    80000        Admin\n",
      "42   Charlie      NaN     NaN  user42@example.com    22-06-2022    70000          NaN\n",
      "43     David      NaN       F  user43@example.com    2020/01/01    70000        Admin\n",
      "44       Eva       35       F  user44@example.com           NaN      NaN  Engineering\n",
      "45     Frank       40    Male  user45@example.com    22-06-2022      NaN  Engineering\n",
      "46     Grace      NaN       F  user46@example.com           NaN      NaN        Admin\n",
      "47    Hannah       40   Other  user47@example.com           NaN      NaN        Sales\n",
      "48       Ivy       25     NaN  user48@example.com  July 4, 2020      NaN    Marketing\n",
      "49      Jack       35       F  user49@example.com  July 4, 2020      NaN  Engineering\n",
      "50     Alice  unknown    Male  user50@example.com    2021-05-21      NaN        Admin\n",
      "51       Bob       35   Other  user51@example.com           NaN  unknown        Admin\n",
      "52   Charlie      NaN  Female  user52@example.com    2020/01/01    70000           HR\n",
      "53     David  unknown     NaN  user53@example.com           NaN      NaN    Marketing\n",
      "54       Eva       25       F  user54@example.com    22-06-2022    70000          NaN\n",
      "55     Frank      NaN    Male  user55@example.com           NaN    70000        Sales\n",
      "56     Grace       30  Female  user56@example.com           NaN    60000          NaN\n",
      "57    Hannah       40  Female  user57@example.com  July 4, 2020  unknown    Marketing\n",
      "58       Ivy       25       M  user58@example.com    2021-05-21      NaN    Marketing\n",
      "59      Jack       40   Other  user59@example.com    2021-05-21    50000    Marketing\n",
      "60     Alice      NaN       F  user60@example.com           NaN    80000          NaN\n",
      "61       Bob       30    Male  user61@example.com  July 4, 2020      NaN    Marketing\n",
      "62   Charlie       30       M  user62@example.com           NaN    50000        Admin\n",
      "63     David       25   Other  user63@example.com    2020/01/01  unknown          NaN\n",
      "64       Eva       30       M  user64@example.com  July 4, 2020    80000    Marketing\n",
      "65     Frank  unknown     NaN  user65@example.com           NaN  unknown        Admin\n",
      "66     Grace       30   Other  user66@example.com           NaN    70000           HR\n",
      "67    Hannah       40   Other  user67@example.com  July 4, 2020    80000    Marketing\n",
      "68       Ivy       40       F  user68@example.com           NaN    70000          NaN\n",
      "69      Jack      NaN   Other  user69@example.com  July 4, 2020    50000  Engineering\n",
      "70     Alice       40       M  user70@example.com    22-06-2022    50000    Marketing\n",
      "71       Bob      NaN   Other  user71@example.com  July 4, 2020    80000  Engineering\n",
      "72   Charlie       40       F  user72@example.com  July 4, 2020    80000        Admin\n",
      "73     David  unknown       F  user73@example.com           NaN      NaN           HR\n",
      "74       Eva      NaN     NaN  user74@example.com           NaN  unknown        Sales\n",
      "75     Frank       35       M  user75@example.com    2021-05-21      NaN           HR\n",
      "76     Grace      NaN  Female  user76@example.com    2021-05-21  unknown    Marketing\n",
      "77    Hannah       25  Female  user77@example.com    22-06-2022      NaN  Engineering\n",
      "78       Ivy       40   Other  user78@example.com    2021-05-21    70000  Engineering\n",
      "79      Jack       30     NaN  user79@example.com  July 4, 2020    80000          NaN\n",
      "80     Alice       40    Male  user80@example.com           NaN    50000  Engineering\n",
      "81       Bob       30   Other  user81@example.com    2021-05-21  unknown          NaN\n",
      "82   Charlie      NaN     NaN  user82@example.com    2021-05-21  unknown        Admin\n",
      "83     David      NaN       M  user83@example.com    22-06-2022    50000        Sales\n",
      "84       Eva      NaN       M  user84@example.com           NaN      NaN    Marketing\n",
      "85     Frank       30       M  user85@example.com    22-06-2022  unknown          NaN\n",
      "86     Grace       40       M  user86@example.com  July 4, 2020      NaN        Sales\n",
      "87    Hannah      NaN       M  user87@example.com           NaN    70000  Engineering\n",
      "88       Ivy  unknown     NaN  user88@example.com    22-06-2022    80000  Engineering\n",
      "89      Jack      NaN     NaN  user89@example.com    2021-05-21    50000        Sales\n",
      "90     Alice       30       F                   -           NaN    80000  Engineering\n",
      "91       Bob       30  Female                   -           NaN      NaN        Admin\n",
      "92   Charlie       40       M                   -    2021-05-21  unknown        Admin\n",
      "93     David       30    Male                   -    22-06-2022  unknown        Sales\n",
      "94       Eva       30     NaN                   -    2021-05-21      NaN          NaN\n",
      "95     Frank      NaN    Male                   -           NaN    50000          NaN\n",
      "96     Grace       40    Male                   -           NaN    70000        Sales\n",
      "97    Hannah      NaN    Male                   -    2020/01/01    60000          NaN\n",
      "98       Ivy      NaN       F                   -    2020/01/01    50000          NaN\n",
      "99      Jack      NaN     NaN                   -  July 4, 2020    60000        Admin\n",
      "100    Alice      NaN     NaN   user0@example.com    2021-05-21      NaN        Admin\n",
      "101      Bob       40       M   user1@example.com           NaN    50000  Engineering\n",
      "102  Charlie  unknown    Male   user2@example.com    2020/01/01    50000           HR\n",
      "103    David      NaN     NaN   user3@example.com    2021-05-21    70000        Admin\n",
      "104      Eva       35   Other   user4@example.com  July 4, 2020    70000  Engineering\n"
     ]
    },
    {
     "name": "stderr",
     "output_type": "stream",
     "text": [
      "C:\\Users\\ravi4\\AppData\\Local\\Temp\\ipykernel_35240\\975940459.py:3: FutureWarning: A value is trying to be set on a copy of a DataFrame or Series through chained assignment using an inplace method.\n",
      "The behavior will change in pandas 3.0. This inplace method will never work because the intermediate object on which we are setting values always behaves as a copy.\n",
      "\n",
      "For example, when doing 'df[col].method(value, inplace=True)', try using 'df.method({col: value}, inplace=True)' or df[col] = df[col].method(value) instead, to perform the operation inplace on the original object.\n",
      "\n",
      "\n",
      "  ds[\"Email\"].fillna(\"-\",inplace=True)\n"
     ]
    }
   ],
   "source": [
    "#HANDLING EMAIL COLUMN\n",
    "\n",
    "ds[\"Email\"].fillna(\"-\",inplace=True)\n",
    "print(ds.to_string())"
   ]
  },
  {
   "cell_type": "code",
   "execution_count": 25,
   "id": "6a78f5ba-e8e9-4bdb-96e4-2a3a72981f43",
   "metadata": {},
   "outputs": [
    {
     "name": "stdout",
     "output_type": "stream",
     "text": [
      "<class 'pandas.core.frame.DataFrame'>\n",
      "RangeIndex: 105 entries, 0 to 104\n",
      "Data columns (total 7 columns):\n",
      " #   Column      Non-Null Count  Dtype         \n",
      "---  ------      --------------  -----         \n",
      " 0   Name        105 non-null    object        \n",
      " 1   Age         72 non-null     object        \n",
      " 2   Gender      89 non-null     object        \n",
      " 3   Email       105 non-null    object        \n",
      " 4   Join_Date   26 non-null     datetime64[ns]\n",
      " 5   Salary      78 non-null     object        \n",
      " 6   Department  89 non-null     object        \n",
      "dtypes: datetime64[ns](1), object(6)\n",
      "memory usage: 5.9+ KB\n"
     ]
    }
   ],
   "source": [
    "ds.info()"
   ]
  },
  {
   "cell_type": "code",
   "execution_count": 24,
   "id": "830ae949-c0eb-453b-8adb-c73bc4b7f473",
   "metadata": {},
   "outputs": [],
   "source": [
    "#HANDLING DATA COLUMN\n",
    "\n",
    "ds[\"Join_Date\"] = pd.to_datetime(ds[\"Join_Date\"], errors='coerce')\n"
   ]
  },
  {
   "cell_type": "code",
   "execution_count": null,
   "id": "409e06fb-bdc5-40d1-9069-ca44339dbf95",
   "metadata": {},
   "outputs": [],
   "source": []
  },
  {
   "cell_type": "code",
   "execution_count": 27,
   "id": "3ce2ab84-ac93-4539-b728-1f4e13e586e0",
   "metadata": {},
   "outputs": [
    {
     "name": "stdout",
     "output_type": "stream",
     "text": [
      "<class 'pandas.core.frame.DataFrame'>\n",
      "RangeIndex: 105 entries, 0 to 104\n",
      "Data columns (total 7 columns):\n",
      " #   Column      Non-Null Count  Dtype         \n",
      "---  ------      --------------  -----         \n",
      " 0   Name        105 non-null    object        \n",
      " 1   Age         72 non-null     object        \n",
      " 2   Gender      89 non-null     object        \n",
      " 3   Email       105 non-null    object        \n",
      " 4   Join_Date   26 non-null     datetime64[ns]\n",
      " 5   Salary      64 non-null     float64       \n",
      " 6   Department  89 non-null     object        \n",
      "dtypes: datetime64[ns](1), float64(1), object(5)\n",
      "memory usage: 5.9+ KB\n"
     ]
    }
   ],
   "source": [
    "#HANDLING SALARY COLUMN\n",
    "\n",
    "ds[\"Salary\"]=pd.to_numeric(ds[\"Salary\"], errors='coerce')\n",
    "ds.info()"
   ]
  },
  {
   "cell_type": "code",
   "execution_count": null,
   "id": "9f526ff3-a9af-4d76-89e4-1512d7ea566b",
   "metadata": {},
   "outputs": [],
   "source": []
  },
  {
   "cell_type": "code",
   "execution_count": 28,
   "id": "63fffab8-8a6f-47ac-8086-de74184e0e86",
   "metadata": {},
   "outputs": [
    {
     "data": {
      "text/plain": [
       "array(['Admin', 'Engineering', 'HR', 'Sales', nan, 'Marketing'],\n",
       "      dtype=object)"
      ]
     },
     "execution_count": 28,
     "metadata": {},
     "output_type": "execute_result"
    }
   ],
   "source": [
    "#UNQUE VALUE OF DEPAETMENT\n",
    "\n",
    "ds[\"Department\"].unique()\n"
   ]
  },
  {
   "cell_type": "code",
   "execution_count": null,
   "id": "d186df9d-4b9e-4fe3-885a-8ec8ec7de4e7",
   "metadata": {},
   "outputs": [],
   "source": []
  },
  {
   "cell_type": "code",
   "execution_count": 29,
   "id": "035e7d96-5847-444a-8f22-2e37e5b83f9a",
   "metadata": {},
   "outputs": [
    {
     "name": "stdout",
     "output_type": "stream",
     "text": [
      "Engineering\n"
     ]
    }
   ],
   "source": [
    "#HANDLING DEPARTMENT COLUMN\n",
    "\n",
    "y=ds[\"Department\"].mode()[0]\n",
    "print(y)"
   ]
  },
  {
   "cell_type": "code",
   "execution_count": null,
   "id": "60a093e4-16f4-455b-8f8d-1012e7e617f5",
   "metadata": {},
   "outputs": [],
   "source": []
  },
  {
   "cell_type": "code",
   "execution_count": 30,
   "id": "5ee60ec3-a066-490c-927f-1e6e85851eea",
   "metadata": {},
   "outputs": [
    {
     "name": "stderr",
     "output_type": "stream",
     "text": [
      "C:\\Users\\ravi4\\AppData\\Local\\Temp\\ipykernel_35240\\20577682.py:4: FutureWarning: A value is trying to be set on a copy of a DataFrame or Series through chained assignment using an inplace method.\n",
      "The behavior will change in pandas 3.0. This inplace method will never work because the intermediate object on which we are setting values always behaves as a copy.\n",
      "\n",
      "For example, when doing 'df[col].method(value, inplace=True)', try using 'df.method({col: value}, inplace=True)' or df[col] = df[col].method(value) instead, to perform the operation inplace on the original object.\n",
      "\n",
      "\n",
      "  ds[\"Department\"].fillna(y,inplace=True)\n"
     ]
    }
   ],
   "source": [
    "#FILLNG MODE VALUE IN THIS COLUMN\n",
    "\n",
    "y=ds[\"Department\"].mode()[0]\n",
    "ds[\"Department\"].fillna(y,inplace=True)"
   ]
  },
  {
   "cell_type": "code",
   "execution_count": null,
   "id": "a656c70e-bfaa-4a3f-8de0-720f4c41d306",
   "metadata": {},
   "outputs": [],
   "source": []
  },
  {
   "cell_type": "code",
   "execution_count": 32,
   "id": "6fdfcfa0-75ca-4d30-a847-e6611f37cced",
   "metadata": {},
   "outputs": [],
   "source": [
    "#SAVE DATA INTO NEW FILE\n",
    "\n",
    "ds.to_csv(\"cleaned_data.csv\", index=False)\n"
   ]
  },
  {
   "cell_type": "code",
   "execution_count": null,
   "id": "fd03d66d-6976-4633-9b8b-9cce5150e803",
   "metadata": {},
   "outputs": [],
   "source": []
  }
 ],
 "metadata": {
  "kernelspec": {
   "display_name": "Python [conda env:base] *",
   "language": "python",
   "name": "conda-base-py"
  },
  "language_info": {
   "codemirror_mode": {
    "name": "ipython",
    "version": 3
   },
   "file_extension": ".py",
   "mimetype": "text/x-python",
   "name": "python",
   "nbconvert_exporter": "python",
   "pygments_lexer": "ipython3",
   "version": "3.12.7"
  }
 },
 "nbformat": 4,
 "nbformat_minor": 5
}
