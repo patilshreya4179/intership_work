{
 "cells": [
  {
   "cell_type": "code",
   "execution_count": 1,
   "id": "51990912-1868-46c7-a491-c2a230e09735",
   "metadata": {},
   "outputs": [],
   "source": [
    "# I want to test other algorithms to. and finding best fitting algorithm for car price prediction\n",
    "# I am going with multiple linear regression, decision tree, random forest algorithm for same"
   ]
  },
  {
   "cell_type": "code",
   "execution_count": null,
   "id": "a814fc42-30b0-4a16-b239-a2a2f548f1cf",
   "metadata": {},
   "outputs": [],
   "source": [
    "# importing Libraries\n",
    "\n",
    "import numpy as np\n",
    "import pandas as pd\n",
    "import warnings\n",
    "warnings.filterwarnings('ignore')"
   ]
  },
  {
   "cell_type": "code",
   "execution_count": null,
   "id": "a759aea9-5be2-4e35-b923-1aa4382ad2b9",
   "metadata": {},
   "outputs": [],
   "source": [
    "# Importing and reading dataset\n",
    "\n",
    "ds= pd.read_csv(\"new_cleaned_data.csv\")\n",
    "ds"
   ]
  },
  {
   "cell_type": "code",
   "execution_count": null,
   "id": "c9efbbef-05cd-44db-b4bf-f460a8d0673d",
   "metadata": {},
   "outputs": [],
   "source": [
    "X=ds[['company','name','year','kms_driven','fuel_type']]\n",
    "y=ds[['Price']]"
   ]
  },
  {
   "cell_type": "code",
   "execution_count": null,
   "id": "14a91e6b-3013-4e5c-95bd-859e1e729f64",
   "metadata": {},
   "outputs": [],
   "source": [
    "# Implementing OneHotcoder\n",
    "\n",
    "from sklearn.preprocessing import OneHotEncoder\n",
    "from sklearn.compose import make_column_transformer\n",
    "ohe=OneHotEncoder()\n",
    "ohe.fit(X[[\"company\",\"name\",\"fuel_type\"]])"
   ]
  },
  {
   "cell_type": "code",
   "execution_count": null,
   "id": "8c40580b-fe74-4ee1-b609-21eab57c8e83",
   "metadata": {},
   "outputs": [],
   "source": [
    "ct=make_column_transformer((OneHotEncoder(handle_unknown = 'ignore',categories=ohe.categories_), [\"company\",\"name\",\"fuel_type\"]),remainder='passthrough',force_int_remainder_cols=False, sparse_threshold = 0)\n",
    "ct"
   ]
  },
  {
   "cell_type": "code",
   "execution_count": null,
   "id": "23082227-70e8-4334-b449-d3231b54d32d",
   "metadata": {},
   "outputs": [],
   "source": [
    "# making pipeline\n",
    "\n",
    "from sklearn.linear_model import LinearRegression\n",
    "from sklearn.pipeline import make_pipeline\n",
    "from sklearn.model_selection import train_test_split\n",
    "from sklearn.metrics import r2_score,mean_squared_error\n",
    "from sklearn.tree import DecisionTreeRegressor\n",
    "from sklearn.ensemble import RandomForestRegressor\n",
    "\n",
    "reg=LinearRegression()\n",
    "regDec = DecisionTreeRegressor(random_state = 0)\n",
    "regRFR = RandomForestRegressor(n_estimators =10, random_state= 0)\n",
    "\n",
    "pipeLinear = make_pipeline(ct, reg)\n",
    "pipeDec = make_pipeline(ct, regDec)\n",
    "pipeRFR = make_pipeline(ct, regRFR)\n",
    "\n",
    "scores = []\n",
    "for i in range(0,101):\n",
    "    X_train,X_test,y_train,y_test = train_test_split(X,y,test_size=0.10,random_state=i)\n",
    "    pipeLinear.fit(X_train,y_train)\n",
    "    pipeDec.fit(X_train,y_train)\n",
    "    pipeRFR.fit(X_train,y_train)\n",
    "\n",
    "    result = pipeLinear.predict(X_test)\n",
    "    scoreLinear = r2_score(y_test, result)\n",
    "    rmseLinear = np.sqrt(mean_squared_error(y_test, result))\n",
    "    \n",
    "    result = pipeDec.predict(X_test)\n",
    "    scoreDec = r2_score(y_test, result)\n",
    "    rmseDec = np.sqrt(mean_squared_error(y_test, result))\n",
    "\n",
    "    result = pipeRFR.predict(X_test)\n",
    "    scoreRFR = r2_score(y_test, result)\n",
    "    rmseRFR = np.sqrt(mean_squared_error(y_test, result))\n",
    "    \n",
    "    \n",
    "    scores.append(('Linear',i, scoreLinear,rmseLinear))\n",
    "    scores.append(('Decision',i, scoreDec, rmseDec ))\n",
    "    scores.append(('Random Forest',i, scoreRFR, rmseRFR ))"
   ]
  },
  {
   "cell_type": "code",
   "execution_count": null,
   "id": "70930a8c-9a23-4348-a682-2f5f75577d5a",
   "metadata": {},
   "outputs": [],
   "source": [
    "# Finding best r2 score and RMSE score\n",
    "\n",
    "scoreDF = pd.DataFrame(data = scores, columns = [\"algo\", \"Iteration\", \"R2 score\", \"RMSE Score\"])\n",
    "resultDF = scoreDF.sort_values(by=\"R2 score\", ascending = False)\n",
    "resultDF\n",
    "# r2 score must be maximum and RMSE score must be minimum"
   ]
  },
  {
   "cell_type": "code",
   "execution_count": null,
   "id": "dcb4c514-e19b-4145-bc45-b4dff1466975",
   "metadata": {},
   "outputs": [],
   "source": [
    " # Making Pipeline for best suited algorithm(Decision tree) \n",
    "\n",
    "X_train,X_test,y_train,y_test = train_test_split(X,y,test_size=0.10,random_state=79)\n",
    "pipeDec.fit(X_train,y_train)"
   ]
  },
  {
   "cell_type": "code",
   "execution_count": null,
   "id": "b193d0ab-64d4-4f42-9398-07157e53d252",
   "metadata": {},
   "outputs": [],
   "source": [
    "# predict for my_input\n",
    "\n",
    "company=input(\"enter company name : \")\n",
    "name=input(\"enter car name : \")\n",
    "year=int(input(\"enter year : \"))\n",
    "kms_driven=int(input(\"enter kms driven : \"))\n",
    "fuel_type=input(\"enter fuel type : \")\n",
    "columns=[\"company\",\"name\",\"year\",\"kms_driven\",\"fuel_type\"]\n",
    "myinput=pd.DataFrame(columns=columns,data=[[company,name,year,kms_driven,fuel_type]])\n",
    "result=pipeDec.predict(myinput)\n",
    "print(\"You should buy it for ~ price : \",result)"
   ]
  },
  {
   "cell_type": "code",
   "execution_count": null,
   "id": "7c8feae3-f88a-43fc-80e5-dbecb94f2e39",
   "metadata": {},
   "outputs": [],
   "source": [
    "# Importing to pkl\n",
    "\n",
    "import pickle as pkl\n",
    "pkl.dump(pipeRFR, open(\"CarProjectUsing_other_algos.pkl\",\"wb\"))"
   ]
  },
  {
   "cell_type": "code",
   "execution_count": null,
   "id": "ffd03455-b29f-4a76-a0a5-9647ca3e95f0",
   "metadata": {},
   "outputs": [],
   "source": []
  }
 ],
 "metadata": {
  "kernelspec": {
   "display_name": "Python [conda env:base] *",
   "language": "python",
   "name": "conda-base-py"
  },
  "language_info": {
   "codemirror_mode": {
    "name": "ipython",
    "version": 3
   },
   "file_extension": ".py",
   "mimetype": "text/x-python",
   "name": "python",
   "nbconvert_exporter": "python",
   "pygments_lexer": "ipython3",
   "version": "3.12.7"
  }
 },
 "nbformat": 4,
 "nbformat_minor": 5
}
